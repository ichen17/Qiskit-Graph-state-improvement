{
  "nbformat": 4,
  "nbformat_minor": 0,
  "metadata": {
    "kernelspec": {
      "display_name": "Python 3",
      "language": "python",
      "name": "python3"
    },
    "language_info": {
      "codemirror_mode": {
        "name": "ipython",
        "version": 3
      },
      "file_extension": ".py",
      "mimetype": "text/x-python",
      "name": "python",
      "nbconvert_exporter": "python",
      "pygments_lexer": "ipython3",
      "version": "3.8.0"
    },
    "colab": {
      "name": "Graph_state_final_version.ipynb",
      "provenance": []
    }
  },
  "cells": [
    {
      "cell_type": "code",
      "metadata": {
        "id": "fw-wLLsLhufC"
      },
      "source": [
        "from qiskit import *\n",
        "# Qiskit module\n",
        "from qiskit import QuantumCircuit\n",
        "import qiskit.circuit.library as circuit_library\n",
        "import qiskit.quantum_info as qi\n",
        "import qiskit.ignis.mitigation as mit\n",
        "\n",
        "# Qiskit tools for noisy simulation\n",
        "from qiskit.providers.aer import QasmSimulator\n",
        "from qiskit.providers.aer.noise import NoiseModel\n",
        "from qiskit.providers.aer.utils import insert_noise\n",
        "\n",
        "# Qiskit tools for running and monitoring jobs\n",
        "from qiskit import execute\n",
        "from qiskit.tools.monitor import job_monitor\n",
        "\n",
        "from qiskit.tools.visualization import *\n",
        "import matplotlib.pyplot as plt\n",
        "import math\n",
        "import numpy as np\n",
        "\n",
        "# Other imports\n",
        "from qiskit.ignis.mitigation.measurement import (complete_meas_cal, tensored_meas_cal,\n",
        "                                                 CompleteMeasFitter, TensoredMeasFitter)\n",
        "# Qiskit for pulse \n",
        "from qiskit import pulse\n",
        "from qiskit import *\n",
        "from qiskit.pulse import Play, Schedule, DriveChannel, ControlChannel, Waveform, ShiftPhase\n",
        "from qiskit.pulse.library import drag, GaussianSquare, Drag\n",
        "from qiskit.visualization import SchedStyle\n",
        "\n",
        "# Suppress warnings\n",
        "import warnings\n",
        "warnings.filterwarnings('ignore')"
      ],
      "execution_count": 3,
      "outputs": []
    },
    {
      "cell_type": "code",
      "metadata": {
        "colab": {
          "base_uri": "https://localhost:8080/"
        },
        "id": "YcqgX3aThufY",
        "outputId": "55a3801f-c75b-4722-8618-983ec4d84f8e"
      },
      "source": [
        "from qiskit import IBMQ\n",
        "IBMQ.save_account(\"26595118309e0ea848015d3f7458b040ec723a9c11afd2d777038533a5a2b8079312af1e3713e370053f85bf7dd5d77f72993b0f04c2cd561e4c31f5a40c910c\")\n",
        "IBMQ.load_account()"
      ],
      "execution_count": 4,
      "outputs": [
        {
          "output_type": "execute_result",
          "data": {
            "text/plain": [
              "<AccountProvider for IBMQ(hub='ibm-q', group='open', project='main')>"
            ]
          },
          "metadata": {
            "tags": []
          },
          "execution_count": 4
        }
      ]
    },
    {
      "cell_type": "code",
      "metadata": {
        "id": "MvcyygC8hufd"
      },
      "source": [
        "provider = IBMQ.get_provider(hub='ibm-q-community', group='ibmquantumawards', project='open-science')\n",
        "backend = provider.get_backend('ibmq_casablanca')\n",
        "properties = backend.properties()"
      ],
      "execution_count": 5,
      "outputs": []
    },
    {
      "cell_type": "code",
      "metadata": {
        "colab": {
          "base_uri": "https://localhost:8080/"
        },
        "id": "ImcTUHl9huff",
        "outputId": "ca41de40-3c94-44ad-fd45-e88391249811"
      },
      "source": [
        "backend_config = backend.configuration()\n",
        "ham_params = backend_config.hamiltonian['vars']\n",
        "dt = backend_config.dt\n",
        "print(f\"Sampling time: {dt*1e9} ns\")"
      ],
      "execution_count": 6,
      "outputs": [
        {
          "output_type": "stream",
          "text": [
            "Sampling time: 0.2222222222222222 ns\n"
          ],
          "name": "stdout"
        }
      ]
    },
    {
      "cell_type": "code",
      "metadata": {
        "colab": {
          "base_uri": "https://localhost:8080/"
        },
        "id": "hZuCsi8Lhufg",
        "outputId": "7a30ef41-8779-441c-bf7a-82f8e58a95ba"
      },
      "source": [
        "backend_defaults = backend.defaults()\n",
        "inst_sched_map = backend_defaults.instruction_schedule_map \n",
        "inst_sched_map.instructions"
      ],
      "execution_count": 7,
      "outputs": [
        {
          "output_type": "execute_result",
          "data": {
            "text/plain": [
              "['cx', 'id', 'measure', 'rz', 'sx', 'u1', 'u2', 'u3', 'x']"
            ]
          },
          "metadata": {
            "tags": []
          },
          "execution_count": 7
        }
      ]
    },
    {
      "cell_type": "code",
      "metadata": {
        "id": "anzk3dU8hufh"
      },
      "source": [
        "\n",
        "num_qubits = 7\n",
        "\n",
        "# Adjacency matrix \n",
        "adjmat = [\n",
        "    [0, 1, 0, 0, 0, 0, 0], \n",
        "    [1, 0, 1, 1, 0, 0, 0], \n",
        "    [0, 1, 0, 0, 0, 0, 0], \n",
        "    [0, 1, 0, 0, 0, 1, 0], \n",
        "    [0, 0, 0, 0, 0, 1, 0], \n",
        "    [0, 0, 0, 1, 1, 0, 1], \n",
        "    [0, 0, 0, 0, 0, 1, 0]]"
      ],
      "execution_count": 8,
      "outputs": []
    },
    {
      "cell_type": "code",
      "metadata": {
        "id": "ccJySWtrhufi"
      },
      "source": [
        "def cx_pulse_instructions(qc: int, qt: int):\n",
        "    \"\"\"Retrieve the CNOT pulse schedule for the given\n",
        "    qubit pair from the backend defaults.\n",
        "    \n",
        "    Args:\n",
        "      qc: control qubit index\n",
        "      qt: target qubit index\n",
        "    \"\"\"\n",
        "    if [qc, qt] not in backend_config.coupling_map:\n",
        "        print('Qubit pair has no direct cross resonance!')\n",
        "    else:\n",
        "        cx = inst_sched_map.get('cx', qubits=[qc, qt])\n",
        "        return cx\n",
        "\n",
        "def Exract_GaussianSquare(q1: int, q2: int):\n",
        "    \"\"\"Retrieve the cross resonance pulse channel and waveform\n",
        "    for the qubit pair from the cx (CNOT) schedule.\n",
        "    \n",
        "    Args:\n",
        "      q1: control qubit index\n",
        "      q2: target qubit index\n",
        "    \"\"\"\n",
        "    cx = cx_pulse_instructions(q1, q2) # extract the cx pulse (q1 as control and q2 as target)\n",
        "    cx1 = cx_pulse_instructions(q2, q1) # extract the cx pulse (q2 as control and q1 as target)\n",
        "    if cx.instructions[-1][0] < cx1.instructions[-1][0]: # compare the period of the cx pulse\n",
        "        cx = cx1 \n",
        "    idx = 0 # index initializes to be 0\n",
        "    Dr_gs = [] \n",
        "    cr_gs = [] \n",
        "    control_channel = ''\n",
        "    Drive_Channel = ''\n",
        "    another_Drive_Channel = ''\n",
        "    #look for first Play instruction on a ControlChannel\n",
        "    N = 1 \n",
        "    for i in range(len(cx.instructions)):\n",
        "        if type(cx.instructions[i][1]) is ShiftPhase and type(cx.instructions[i][1].channel) is DriveChannel\\\n",
        "        and cx.instructions[i][1].phase == -math.pi/2 and N == 1 :\n",
        "            \n",
        "            another_Drive_Channel=cx.instructions[i][1].channels[0]\n",
        "            \n",
        "        if type(cx.instructions[i][1].channels[0]) is ControlChannel and type(cx.instructions[i][1]) is Play\\\n",
        "          and type(cx.instructions[i][1].pulse) is GaussianSquare:\n",
        "\n",
        "            cr_gs.append(cx.instructions[i][1].pulse)\n",
        "\n",
        "            control_channel=cx.instructions[i][1].channels[0]\n",
        "\n",
        "        if type(cx.instructions[i][1].channels[0]) is DriveChannel and type(cx.instructions[i][1]) is Play \\\n",
        "          and type(cx.instructions[i][1].pulse) is GaussianSquare:\n",
        "\n",
        "            Dr_gs.append(cx.instructions[i][1].pulse)\n",
        "\n",
        "            Drive_Channel=cx.instructions[i][1].channels[0]\n",
        "        if type(cx.instructions[i][1]) is Play:\n",
        "            N = 0\n",
        "\n",
        "    return control_channel, cr_gs, Drive_Channel, Dr_gs, another_Drive_Channel\n",
        "\n",
        "\n",
        "\n",
        "def Get_Shift_phase_CRTL_Chan(q1: int, q2: int):\n",
        "    \"\"\"Get q1 and q2 corresponding control channel so we can also rotate the corresponding control channel\n",
        "    \n",
        "    Args:\n",
        "      q1: small one\n",
        "      qt: target qubit index\n",
        "    \"\"\"\n",
        "    cx1 = cx_pulse_instructions(q1, q2)\n",
        "    cx2 = cx_pulse_instructions(q2, q1)\n",
        "    if cx1.instructions[-1][0] > cx2.instructions[-1][0]:\n",
        "        cx1, cx2 = cx2, cx1\n",
        "    control_chan0 = []\n",
        "    control_chan1 = []\n",
        "    for i in range(len(cx2.instructions)):\n",
        "        if type(cx2.instructions[i][1]) is ShiftPhase and type(cx2.instructions[i][1].channel) is ControlChannel\\\n",
        "        and cx2.instructions[i][1].phase == -math.pi/2 :\n",
        "            control_chan0.append(cx2.instructions[i][1].channel)\n",
        "        if type(cx2.instructions[i][1]) is ShiftPhase and type(cx2.instructions[i][1].channel) is ControlChannel\\\n",
        "        and cx2.instructions[i][1].phase == -math.pi :\n",
        "            control_chan1.append(cx2.instructions[i][1].channel)\n",
        "        if type(cx2.instructions[i][1]) is Play:\n",
        "            break\n",
        "    return control_chan0, control_chan1\n",
        "\n",
        "\n",
        "# CZ_gate pulse construction\n",
        "def CZ_gate_schedule_3 (q0: int, q1: int):\n",
        "    uchan, cr_pulse, Dchan, dr_pulse, another_Dchan = Exract_GaussianSquare(q0, q1)\n",
        "    control_chan0, control_chan1 = Get_Shift_phase_CRTL_Chan(q0, q1)\n",
        "    \n",
        "    Y_q = Dchan.index\n",
        "    \n",
        "    X_q = another_Dchan.index\n",
        "    \n",
        "    Y90p = inst_sched_map.get('u2', P0=0, P1=0, qubits=[Y_q]).instructions # get Y 90 pulse\n",
        "    \n",
        "    X_180 = inst_sched_map.get('x', qubits=[X_q]).instructions[0][1].pulse # get X 180 pulse\n",
        "    \n",
        "    for Y in Y90p:\n",
        "        if type(Y[1]) is Play:\n",
        "            Y_pulse = Y[1].pulse\n",
        "            \n",
        "    drive_samples = Y_pulse.duration\n",
        "    \n",
        "    cr_samples = cr_pulse[0].duration\n",
        "  \n",
        "    CZ_schedule = pulse.Schedule(name=\"CZ gate pulse\") \n",
        "    \n",
        "    CZ_schedule |= Play(Y_pulse, Dchan)\n",
        "    \n",
        "    CZ_schedule |= Play(dr_pulse[0], Dchan) << int(drive_samples)\n",
        "    CZ_schedule |= Play(cr_pulse[0], uchan) << int(drive_samples)\n",
        "    \n",
        "    CZ_schedule |= Play(X_180, another_Dchan) << int(cr_samples+drive_samples)\n",
        "\n",
        "    CZ_schedule |= Play(dr_pulse[1], Dchan) << int(cr_samples+2*drive_samples)\n",
        "    CZ_schedule |= Play(cr_pulse[1], uchan) << int(cr_samples+2*drive_samples)\n",
        "    \n",
        "    CZ_schedule |= Play(X_180, another_Dchan) << int(2*cr_samples+2*drive_samples)\n",
        "    \n",
        "    CZ_schedule |= ShiftPhase(-math.pi, Dchan) << int(2*cr_samples+2*drive_samples)\n",
        "    \n",
        "    for chan in control_chan1:\n",
        "        CZ_schedule |= ShiftPhase(-math.pi, chan) << int(2*cr_samples+2*drive_samples)\n",
        "\n",
        "    CZ_schedule |= Play(Y_pulse, Dchan) << int(2*cr_samples+2*drive_samples)\n",
        "\n",
        "    CZ_schedule |= ShiftPhase(-math.pi/2, Dchan) << int(2*cr_samples+3*drive_samples)\n",
        "    \n",
        "    for chan in control_chan1: \n",
        "        CZ_schedule |= ShiftPhase(-math.pi/2, chan) << int(2*cr_samples+3*drive_samples)\n",
        "    \n",
        "    CZ_schedule |= ShiftPhase(math.pi/2, another_Dchan) << int(2*cr_samples+3*drive_samples)\n",
        "    \n",
        "    for chan in control_chan0: \n",
        "        CZ_schedule |= ShiftPhase(math.pi/2, chan) << int(2*cr_samples+3*drive_samples)\n",
        "\n",
        "    return CZ_schedule\n",
        "\n"
      ],
      "execution_count": 30,
      "outputs": []
    },
    {
      "cell_type": "code",
      "metadata": {
        "id": "ynqfEhBIhufo"
      },
      "source": [
        "class Graph_state:\n",
        "    def __init__(self, backend, edges_list, tot_qubit = None):\n",
        "        \"\"\"\n",
        "        The edge list is used to save edges, the connections between the qubits\n",
        "\n",
        "        tot_qubit: the total number of qubits to create the graph state\n",
        "\n",
        "        backend: the backend you use\n",
        "        \"\"\"\n",
        "        self.edges_list = edges_list\n",
        "        self.config = backend.configuration()\n",
        "\n",
        "        if tot_qubit == None:\n",
        "          self.tot_q = self.config.n_qubits\n",
        "        else:\n",
        "          self.tot_q = tot_qubit\n",
        "\n",
        "        if self.config.n_qubits <  self.tot_q:\n",
        "            \n",
        "            raise Exception('Total qubits should not exceed {}.'.format(self.config.n_qubits))\n",
        "            \n",
        "        for x in self.edges_list:\n",
        "            \n",
        "            if list(x) not in backend_config.coupling_map:\n",
        "                \n",
        "                raise Exception('{} is not the backend.'.format(config.n_qubits))\n",
        "        \n",
        "    def Creat_graph_state_circuit(self):\n",
        "        \n",
        "        graph_circuit = QuantumCircuit(self.tot_q)  \n",
        "\n",
        "        graph_circuit.h(range(self.tot_q))  \n",
        "\n",
        "        for i in self.edges_list:        \n",
        "            graph_circuit.cz(i[0],i[1])       \n",
        "\n",
        "        return graph_circuit"
      ],
      "execution_count": 31,
      "outputs": []
    },
    {
      "cell_type": "code",
      "metadata": {
        "id": "afibnYa1hufq"
      },
      "source": [
        "def create_graph_state():\n",
        "    \n",
        "    \n",
        "    edges_list = [(4,5), (1,3), (1,2), (3,5), (0,1), (5,6)]   # The combination we try and get the best result\n",
        "\n",
        "    #edges_list = [(0,1), (5,6), (1,2), (3,5), (4,5), (1,3)] # The combination we try near the end of March and get the best result.\n",
        "\n",
        "    graph_state = Graph_state( backend, edges_list)   \n",
        "\n",
        "    graph_state_circuit = graph_state.Creat_graph_state_circuit()   \n",
        "\n",
        "    return graph_state_circuit"
      ],
      "execution_count": 32,
      "outputs": []
    },
    {
      "cell_type": "code",
      "metadata": {
        "colab": {
          "base_uri": "https://localhost:8080/",
          "height": 367
        },
        "id": "c7UFzdFjhufs",
        "outputId": "0f958092-fbde-4aa5-a663-8986d1cd26fc"
      },
      "source": [
        "state_circuit = create_graph_state()\n",
        "state_circuit.draw(output = \"mpl\")"
      ],
      "execution_count": 33,
      "outputs": [
        {
          "output_type": "execute_result",
          "data": {
            "image/png": "[encoded data removed]",
            "text/plain": [
              "<Figure size 327.397x445.48 with 1 Axes>"
            ]
          },
          "metadata": {
            "tags": []
          },
          "execution_count": 33
        }
      ]
    },
    {
      "cell_type": "code",
      "metadata": {
        "id": "Z5WG5RgLhufu"
      },
      "source": [
        "def compute_stabilizer_group(circuit):\n",
        "    \"\"\"Compute the stabilizer group for stabilizer circuit.\"\"\"\n",
        "    state = qi.Statevector.from_instruction(circuit)\n",
        "    labels = []\n",
        "    for i in qi.pauli_basis(state.num_qubits):\n",
        "        val = round(qi.state_fidelity(i.to_matrix()[0], state, validate=False))\n",
        "        if val != 0:\n",
        "            label = i.to_labels()[0]\n",
        "            if val == 1:\n",
        "                label = '+' + label\n",
        "            else:\n",
        "                label = '-' + label\n",
        "            labels.append(label)\n",
        "    return labels\n",
        "\n",
        "def stabilizer_coeff_pauli(stabilizer):\n",
        "    \"\"\"Return the 1 or -1 coeff and Pauli label.\"\"\"\n",
        "    coeff = 1\n",
        "    pauli = coeff\n",
        "    if stabilizer[0] == '-':\n",
        "        coeff = -1\n",
        "    if stabilizer[0] in ['+', '-']:\n",
        "        pauli = stabilizer[1:]\n",
        "    else:\n",
        "        pauli = stabilizer\n",
        "    return coeff, pauli\n",
        "\n",
        "def stabilizer_measure_circuit(stabilizer,  initial_circuit=None, cz_pulse=False):\n",
        "    \"\"\"Return a stabilizer measurement circuits.\n",
        "    \n",
        "    Args:\n",
        "        stabilizer (str): a stabilizer string\n",
        "        initial_circuit (QuantumCircuit): Optional, the initial circuit.\n",
        "    \n",
        "    Returns:\n",
        "        QuantumCircuit: the circuit with stabilizer measurements.\n",
        "    \"\"\"\n",
        "    _, pauli = stabilizer_coeff_pauli(stabilizer)\n",
        "    if initial_circuit is None:\n",
        "        circ = QuantumCircuit(len(pauli))\n",
        "    else:\n",
        "        circ = initial_circuit.copy()\n",
        "    for i, s in enumerate(reversed(pauli)):\n",
        "        if s == 'X':\n",
        "            circ.h(i)\n",
        "        if s == 'Y':\n",
        "            circ.sdg(i)\n",
        "            circ.h(i)\n",
        "\n",
        "    if cz_pulse == True: #Add our custom CZ gate\n",
        "        \n",
        "        circ.add_calibration('cz', [1,2], CZ_gate_schedule_3(1,2))\n",
        "\n",
        "        circ.add_calibration('cz', [0,1], CZ_gate_schedule_3(0,1))\n",
        "\n",
        "        circ.add_calibration('cz', [3,5], CZ_gate_schedule_3(3,5))\n",
        "\n",
        "        circ.add_calibration('cz', [1,3], CZ_gate_schedule_3(1,3))\n",
        "\n",
        "        circ.add_calibration('cz', [4,5], CZ_gate_schedule_3(4,5))\n",
        "\n",
        "        circ.add_calibration('cz', [5,6], CZ_gate_schedule_3(5,6))\n",
        "\n",
        "        circ = transpile(circ, backend)\n",
        "        \n",
        "    circ.measure_all()\n",
        "    return circ"
      ],
      "execution_count": 34,
      "outputs": []
    },
    {
      "cell_type": "code",
      "metadata": {
        "colab": {
          "base_uri": "https://localhost:8080/"
        },
        "id": "9tYGCd9xhufv",
        "outputId": "bd07e72a-1b15-4868-cb0f-27578d1e40dc"
      },
      "source": [
        "## Compute the stabilizers for this graph state\n",
        "generators = qi.Clifford(state_circuit).stabilizer.pauli.to_labels()\n",
        "stabilizers = compute_stabilizer_group(state_circuit)\n",
        "print('Stabilizers:', stabilizers)\n",
        "print('Generators:', generators)"
      ],
      "execution_count": 18,
      "outputs": [
        {
          "output_type": "stream",
          "text": [
            "Stabilizers: ['+IIIIIII', '+IIIIIZX', '+IIIIXIX', '+IIIIXZI', '-IIIZYXY', '+IIIZYYZ', '+IIIZZXZ', '+IIIZZYY', '+IIXXIIX', '+IIXXIZI', '+IIXXXII', '+IIXXXZX', '-IIXYYXZ', '-IIXYYYY', '-IIXYZXY', '+IIXYZYZ', '+IZIXIIX', '+IZIXIZI', '+IZIXXII', '+IZIXXZX', '-IZIYYXZ', '-IZIYYYY', '-IZIYZXY', '+IZIYZYZ', '+IZXIIII', '+IZXIIZX', '+IZXIXIX', '+IZXIXZI', '-IZXZYXY', '+IZXZYYZ', '+IZXZZXZ', '+IZXZZYY', '+XIIXIIX', '+XIIXIZI', '+XIIXXII', '+XIIXXZX', '-XIIYYXZ', '-XIIYYYY', '-XIIYZXY', '+XIIYZYZ', '+XIXIIII', '+XIXIIZX', '+XIXIXIX', '+XIXIXZI', '-XIXZYXY', '+XIXZYYZ', '+XIXZZXZ', '+XIXZZYY', '+XZIIIII', '+XZIIIZX', '+XZIIXIX', '+XZIIXZI', '-XZIZYXY', '+XZIZYYZ', '+XZIZZXZ', '+XZIZZYY', '+XZXXIIX', '+XZXXIZI', '+XZXXXII', '+XZXXXZX', '-XZXYYXZ', '-XZXYYYY', '-XZXYZXY', '+XZXYZYZ', '+YXYIYXY', '-YXYIYYZ', '-YXYIZXZ', '-YXYIZYY', '-YXYZIII', '-YXYZIZX', '-YXYZXIX', '-YXYZXZI', '-YXZXYXZ', '-YXZXYYY', '-YXZXZXY', '+YXZXZYZ', '-YXZYIIX', '-YXZYIZI', '-YXZYXII', '-YXZYXZX', '-YYYXYXZ', '-YYYXYYY', '-YYYXZXY', '+YYYXZYZ', '-YYYYIIX', '-YYYYIZI', '-YYYYXII', '-YYYYXZX', '-YYZIYXY', '+YYZIYYZ', '+YYZIZXZ', '+YYZIZYY', '+YYZZIII', '+YYZZIZX', '+YYZZXIX', '+YYZZXZI', '-ZXYXYXZ', '-ZXYXYYY', '-ZXYXZXY', '+ZXYXZYZ', '-ZXYYIIX', '-ZXYYIZI', '-ZXYYXII', '-ZXYYXZX', '-ZXZIYXY', '+ZXZIYYZ', '+ZXZIZXZ', '+ZXZIZYY', '+ZXZZIII', '+ZXZZIZX', '+ZXZZXIX', '+ZXZZXZI', '-ZYYIYXY', '+ZYYIYYZ', '+ZYYIZXZ', '+ZYYIZYY', '+ZYYZIII', '+ZYYZIZX', '+ZYYZXIX', '+ZYYZXZI', '+ZYZXYXZ', '+ZYZXYYY', '+ZYZXZXY', '-ZYZXZYZ', '+ZYZYIIX', '+ZYZYIZI', '+ZYZYXII', '+ZYZYXZX']\n",
            "Generators: ['IIIIIZX', 'IIIZZXZ', 'IIIIXZI', 'IZIXIZI', 'IZXIIII', 'ZXZZIII', 'XZIIIII']\n"
          ],
          "name": "stdout"
        }
      ]
    },
    {
      "cell_type": "code",
      "metadata": {
        "colab": {
          "base_uri": "https://localhost:8080/",
          "height": 413
        },
        "id": "DHeDM1kzhufw",
        "outputId": "80ab549c-ac58-4dc3-812e-263e126e071e"
      },
      "source": [
        "stabilizer_circuits = [stabilizer_measure_circuit(stab, state_circuit)  # Default one is no our custom CZ addition. If one want to add our custom CZ gates,\n",
        "                       for stab in stabilizers]                         # one need to put cz_pulse = True on the last argument of stabilizer_measure_circuit. \n",
        "\n",
        "stabilizer_circuits[0].draw(output = \"mpl\")"
      ],
      "execution_count": 36,
      "outputs": [
        {
          "output_type": "execute_result",
          "data": {
            "image/png": "[encoded data removed]",
            "text/plain": [
              "<Figure size 839.279x505.68 with 1 Axes>"
            ]
          },
          "metadata": {
            "tags": []
          },
          "execution_count": 36
        }
      ]
    },
    {
      "cell_type": "code",
      "metadata": {
        "id": "0zysRYzthufx"
      },
      "source": [
        "labels = ['0000000', '0000011', '0000101',  \n",
        "          '0001001', '0001010', '0001100', \n",
        "          '0010001', '0010010', '0010100', '0011000', \n",
        "          '0100001', '0100010', '0100100', '0101000', '0110000', \n",
        "          '1000001', '1000010', '1000100', '1001000', '1010000', '1100000', \n",
        "          '1111111'] \n",
        "\n",
        "qr = QuantumRegister(7)\n",
        "\n",
        "qubit_list = [0,1,2,3,4,5,6]\n",
        "meas_cal_circuits, metadata = mit.expval_meas_mitigator_circuits(num_qubits, labels=labels) #  The CTMP method\n",
        "\n",
        "\n",
        "meas_calibs1, metadata1 =  mit.expval_meas_mitigator_circuits(num_qubits,  method = 'complete') # complete method: a precise way to do error mitigation \n",
        "\n",
        "\n",
        "meas_calibs2, metadata2 =  mit.expval_meas_mitigator_circuits(num_qubits, method = 'tensored') # Tensor product method which will cause overestimated fidelity"
      ],
      "execution_count": 20,
      "outputs": []
    },
    {
      "cell_type": "code",
      "metadata": {
        "id": "jen1Caj0hufy"
      },
      "source": [
        "reps = 4"
      ],
      "execution_count": 21,
      "outputs": []
    },
    {
      "cell_type": "code",
      "metadata": {
        "id": "kf6Lit4Khufy",
        "outputId": "e6c3722f-e5b7-4bba-84f9-3d595382a16d"
      },
      "source": [
        "\n",
        "all_jobs = []\n",
        "all_jobs_mit = []\n",
        "\n",
        "for ii in range(reps):\n",
        "\n",
        "    # Run QPT on backend\n",
        "    shots = 8192\n",
        "    il = [0,1,2,3,4,5,6] \n",
        "\n",
        "    job_backend = execute(stabilizer_circuits, backend, shots=shots, initial_layout=il)\n",
        "\n",
        "\n",
        "    # To get the best result of fidelity, one can use Tensored readout error mitigation.\n",
        "    # If one want to get precise result, one can use complete one or CTMP one.\n",
        "\n",
        "    job_mit_backend = execute(meas_calibs1, backend, shots=shots, initial_layout=il)\n",
        "    \n",
        "    \n",
        "    print('Job IDs ({}/{}): \\n measurement calibration: {}\\n stabilizer measurements: {}'.format(\n",
        "        ii+1, reps, job_mit_backend.job_id(), job_backend.job_id()))\n",
        "\n",
        "    all_jobs.append(job_backend)\n",
        "    all_jobs_mit.append(job_mit_backend)\n",
        "    \n",
        "    \n",
        "    \n",
        "    "
      ],
      "execution_count": null,
      "outputs": [
        {
          "output_type": "stream",
          "text": [
            "Job IDs (1/4): \n",
            " measurement calibration: 603d02547a77b10fb63e868c\n",
            " stabilizer measurements: 603d0250e1ef57ca71cade06\n",
            "Job IDs (2/4): \n",
            " measurement calibration: 603d02a5e1ef574761cade0b\n",
            " stabilizer measurements: 603d02a2badec22b24aecfc9\n",
            "Job IDs (3/4): \n",
            " measurement calibration: 603d02eb4365987ab2f08f1f\n",
            " stabilizer measurements: 603d02e89f4bdd03cd0f8285\n",
            "Job IDs (4/4): \n",
            " measurement calibration: 603d032e11e34038742e7194\n",
            " stabilizer measurements: 603d032a9f4bddf4760f8289\n"
          ],
          "name": "stdout"
        }
      ]
    },
    {
      "cell_type": "code",
      "metadata": {
        "id": "sXghuEFqhufz",
        "colab": {
          "base_uri": "https://localhost:8080/"
        },
        "outputId": "b0dbc891-c78e-4882-dc14-441337b81acd"
      },
      "source": [
        "\n",
        "for job in all_jobs:\n",
        "    job_monitor(job)\n",
        "    try:\n",
        "        if job.error_message() is not None:\n",
        "            print(job.error_message())\n",
        "    except:\n",
        "        pass"
      ],
      "execution_count": 24,
      "outputs": [
        {
          "output_type": "stream",
          "text": [
            "\rJob Status: job has successfully run\n",
            "\rJob Status: job has successfully run\n",
            "\rJob Status: job has successfully run\n",
            "\rJob Status: job has successfully run\n"
          ],
          "name": "stdout"
        }
      ]
    },
    {
      "cell_type": "code",
      "metadata": {
        "id": "UXYR5hybhuf6"
      },
      "source": [
        "\n",
        "result_backend = []\n",
        "result_mit_backend = []\n",
        "for job in all_jobs:\n",
        "    # Retrieve results (this may take a while depending on the queue)\n",
        "    result_backend.append(job.result())\n",
        "    \n",
        "for job in all_jobs_mit:\n",
        "    result_mit_backend.append(job.result())"
      ],
      "execution_count": 25,
      "outputs": []
    },
    {
      "cell_type": "code",
      "metadata": {
        "id": "7ss5__SWhuf7"
      },
      "source": [
        "def stabilizer_measure_diagonal(stabilizer):\n",
        "    \"\"\"Return the diagonal vector for a stabilizer measurement.\n",
        "    \n",
        "    Args:\n",
        "        stabilizer (str): a stabilizer string\n",
        "    \n",
        "    Returns:\n",
        "        np.ndarray: the diagonal for measurement in the stabilizer basis.\n",
        "    \"\"\"\n",
        "    coeff, pauli = stabilizer_coeff_pauli(stabilizer)\n",
        "    diag = np.array([1])\n",
        "    for s in reversed(pauli):\n",
        "        if s == 'I':\n",
        "            tmp = np.array([1, 1])\n",
        "        else:\n",
        "            tmp = np.array([1, -1])\n",
        "        diag = np.kron(tmp, diag)\n",
        "    return coeff * diag\n",
        "    \n",
        "def stabilizer_fidelity(expvals, stddevs=None):\n",
        "    \"\"\"Compute stabilizer state fidelity from stabilizer expvals.\"\"\"\n",
        "    mean = np.mean(expvals)\n",
        "    if stddevs is None:\n",
        "        return mean\n",
        "    stddev = np.sqrt(np.sum(stddevs ** 2))\n",
        "    return mean, stddev"
      ],
      "execution_count": 26,
      "outputs": []
    },
    {
      "cell_type": "code",
      "metadata": {
        "id": "zwivCAmqhuf8"
      },
      "source": [
        "def stabilizer_expvals(result, stabilizers, meas_mitigator=None):\n",
        "    \"\"\"Compute expectation values from stabilizer measurement results.\"\"\"\n",
        "    \n",
        "    expvals = []\n",
        "    stddevs = []\n",
        "    for i, stab in enumerate(stabilizers):\n",
        "        expval, stddev = mit.expectation_value(\n",
        "            result.get_counts(i),\n",
        "            diagonal=stabilizer_measure_diagonal(stab),\n",
        "            meas_mitigator=meas_mitigator)\n",
        "        expvals.append(expval)\n",
        "        stddevs.append(stddev)\n",
        "    return np.array(expvals), np.array(stddevs)"
      ],
      "execution_count": 27,
      "outputs": []
    },
    {
      "cell_type": "code",
      "metadata": {
        "id": "-yLGh5hthuf9"
      },
      "source": [
        "## Mitigate the stabilizer expectation values \n",
        "F_nomit_backend = []\n",
        "F_mit_backend = []\n",
        "\n",
        "for ii in range(reps):\n",
        "    # Unmitigated Expectation Values\n",
        "    expvals_nomit_b, stddevs_nomit_b = stabilizer_expvals(\n",
        "        result_backend[ii], stabilizers)\n",
        "    \n",
        "    # Fit measurement error mitigators\n",
        "    mitigator_backend = mit.ExpvalMeasMitigatorFitter(result_mit_backend[ii], metadata1).fit()\n",
        "\n",
        "    # Measurement error mitigated expectation values\n",
        "    expvals_mit_b, stddevs_mit_b = stabilizer_expvals(\n",
        "        result_backend[ii], stabilizers, meas_mitigator=mitigator_backend)\n",
        "    \n",
        "    # save the fidelities for this iteration\n",
        "    F_nomit_backend.append(stabilizer_fidelity(expvals_nomit_b, stddevs_nomit_b)[0])\n",
        "    F_mit_backend.append(stabilizer_fidelity(expvals_mit_b, stddevs_mit_b)[0])"
      ],
      "execution_count": 28,
      "outputs": []
    },
    {
      "cell_type": "code",
      "metadata": {
        "id": "ZIQcyOyChuf9",
        "colab": {
          "base_uri": "https://localhost:8080/"
        },
        "outputId": "7eb62f83-3662-43db-a328-e47c8159f493"
      },
      "source": [
        "#Show the fidelity result\n",
        "\n",
        "print('Graph-state fidelity estimates')\n",
        "print('\\nNo mitigation')\n",
        "print('{:.3f} \\u00B1 {:.3f}'.format(\n",
        "     np.mean(F_nomit_backend), np.std(F_nomit_backend)))\n",
        "\n",
        "print('\\nComplete error mitigation')\n",
        "print('{:.3f} \\u00B1 {:.3f}'.format(\n",
        "     np.mean(F_mit_backend), np.std(F_mit_backend)))"
      ],
      "execution_count": 29,
      "outputs": [
        {
          "output_type": "stream",
          "text": [
            "Graph-state fidelity estimates\n",
            "\n",
            "No mitigation\n",
            "0.721 ± 0.005\n",
            "\n",
            "Complete error mitigation\n",
            "0.972 ± 0.060\n"
          ],
          "name": "stdout"
        }
      ]
    },
    {
      "cell_type": "code",
      "metadata": {
        "id": "_A1_TF8GhugA"
      },
      "source": [
        ""
      ],
      "execution_count": null,
      "outputs": []
    }
  ]
}