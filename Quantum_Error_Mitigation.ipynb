{
  "nbformat": 4,
  "nbformat_minor": 0,
  "metadata": {
    "colab": {
      "name": "Quantum Computation Test",
      "provenance": [],
      "collapsed_sections": []
    },
    "kernelspec": {
      "name": "python3",
      "display_name": "Python 3"
    }
  },
  "cells": [
    {
      "cell_type": "code",
      "metadata": {
        "colab": {
          "base_uri": "https://localhost:8080/"
        },
        "id": "gCfSBZ7uFn1-",
        "outputId": "33ba741d-7592-4d42-958f-50d858c5b149"
      },
      "source": [
        "pip install pylatexenc # Install pylatexenc used to plot quantum circuit "
      ],
      "execution_count": null,
      "outputs": [
        {
          "output_type": "stream",
          "text": [
            "Collecting pylatexenc\n",
            "\u001b[?25l  Downloading https://files.pythonhosted.org/packages/40/d0/cad5f06137b8e1924a9b2c5b5ca07b75c6272bdfb14cb9df904d6fc5c05f/pylatexenc-2.8.tar.gz (158kB)\n",
            "\r\u001b[K     |██                              | 10kB 18.9MB/s eta 0:00:01\r\u001b[K     |████▏                           | 20kB 22.1MB/s eta 0:00:01\r\u001b[K     |██████▏                         | 30kB 11.8MB/s eta 0:00:01\r\u001b[K     |████████▎                       | 40kB 9.1MB/s eta 0:00:01\r\u001b[K     |██████████▎                     | 51kB 6.5MB/s eta 0:00:01\r\u001b[K     |████████████▍                   | 61kB 7.0MB/s eta 0:00:01\r\u001b[K     |██████████████▌                 | 71kB 7.5MB/s eta 0:00:01\r\u001b[K     |████████████████▌               | 81kB 7.4MB/s eta 0:00:01\r\u001b[K     |██████████████████▋             | 92kB 7.2MB/s eta 0:00:01\r\u001b[K     |████████████████████▋           | 102kB 7.5MB/s eta 0:00:01\r\u001b[K     |██████████████████████▊         | 112kB 7.5MB/s eta 0:00:01\r\u001b[K     |████████████████████████▉       | 122kB 7.5MB/s eta 0:00:01\r\u001b[K     |██████████████████████████▉     | 133kB 7.5MB/s eta 0:00:01\r\u001b[K     |█████████████████████████████   | 143kB 7.5MB/s eta 0:00:01\r\u001b[K     |███████████████████████████████ | 153kB 7.5MB/s eta 0:00:01\r\u001b[K     |████████████████████████████████| 163kB 7.5MB/s \n",
            "\u001b[?25hBuilding wheels for collected packages: pylatexenc\n",
            "  Building wheel for pylatexenc (setup.py) ... \u001b[?25l\u001b[?25hdone\n",
            "  Created wheel for pylatexenc: filename=pylatexenc-2.8-cp36-none-any.whl size=131377 sha256=d605ae3a601083185467251b09f732107356d8d0b7861aa96723aa3b390fa93a\n",
            "  Stored in directory: /root/.cache/pip/wheels/88/23/90/4cf49f59c1eb67af40a2b3a580536bb5f91d40bc0d4cc8e035\n",
            "Successfully built pylatexenc\n",
            "Installing collected packages: pylatexenc\n",
            "Successfully installed pylatexenc-2.8\n"
          ],
          "name": "stdout"
        }
      ]
    },
    {
      "cell_type": "code",
      "metadata": {
        "colab": {
          "base_uri": "https://localhost:8080/"
        },
        "id": "q_iptI80GLQI",
        "outputId": "8f97475a-5127-4f52-f24c-b458c14264bc"
      },
      "source": [
        "!pip install qiskit  # Install the qiskit"
      ],
      "execution_count": null,
      "outputs": [
        {
          "output_type": "stream",
          "text": [
            "Collecting qiskit\n",
            "  Downloading https://files.pythonhosted.org/packages/8b/b6/9e38d181beb9dd07748cb36eb37ba5dfd43c34e7e1cab0afcd15e949c306/qiskit-0.23.2.tar.gz\n",
            "Collecting qiskit-terra==0.16.1\n",
            "\u001b[?25l  Downloading https://files.pythonhosted.org/packages/66/91/813c0b986fa953d09ff58c74a7948bf9d52c64497319746bb4a1bb0e7f3a/qiskit_terra-0.16.1-cp36-cp36m-manylinux2010_x86_64.whl (8.5MB)\n",
            "\u001b[K     |████████████████████████████████| 8.5MB 5.8MB/s \n",
            "\u001b[?25hCollecting qiskit-aer==0.7.2\n",
            "\u001b[?25l  Downloading https://files.pythonhosted.org/packages/9b/5a/caa85b889de9aa4250fff68e76ad82fd2916f63b1eb3cced1c5419efe215/qiskit_aer-0.7.2-cp36-cp36m-manylinux2010_x86_64.whl (17.6MB)\n",
            "\u001b[K     |████████████████████████████████| 17.6MB 258kB/s \n",
            "\u001b[?25hCollecting qiskit-ibmq-provider==0.11.1\n",
            "\u001b[?25l  Downloading https://files.pythonhosted.org/packages/32/b9/f99bec4fdc4dec234d8a85a8da378750441a203c614be35353f5e8738316/qiskit_ibmq_provider-0.11.1-py3-none-any.whl (195kB)\n",
            "\u001b[K     |████████████████████████████████| 204kB 50.3MB/s \n",
            "\u001b[?25hCollecting qiskit-ignis==0.5.1\n",
            "\u001b[?25l  Downloading https://files.pythonhosted.org/packages/f7/42/5e151db90ebeb0d08d0f799f72c1922cded76065b03c4ca4fc11ec0085ce/qiskit_ignis-0.5.1-py3-none-any.whl (204kB)\n",
            "\u001b[K     |████████████████████████████████| 204kB 36.7MB/s \n",
            "\u001b[?25hCollecting qiskit-aqua==0.8.1\n",
            "\u001b[?25l  Downloading https://files.pythonhosted.org/packages/4d/5f/41abad4b0375effe79a51a20130da6c18bb2101c257366aab0f300197e53/qiskit_aqua-0.8.1-py3-none-any.whl (2.1MB)\n",
            "\u001b[K     |████████████████████████████████| 2.1MB 37.8MB/s \n",
            "\u001b[?25hRequirement already satisfied: psutil>=5 in /usr/local/lib/python3.6/dist-packages (from qiskit-terra==0.16.1->qiskit) (5.4.8)\n",
            "Collecting python-constraint>=1.4\n",
            "  Downloading https://files.pythonhosted.org/packages/37/8b/5f1bc2734ca611943e1d6733ee244238679f6410a10cd45ede55a61a8402/python-constraint-1.4.0.tar.bz2\n",
            "Collecting contextvars>=2.4; python_version < \"3.7\"\n",
            "  Downloading https://files.pythonhosted.org/packages/83/96/55b82d9f13763be9d672622e1b8106c85acb83edd7cc2fa5bc67cd9877e9/contextvars-2.4.tar.gz\n",
            "Requirement already satisfied: scipy>=1.4 in /usr/local/lib/python3.6/dist-packages (from qiskit-terra==0.16.1->qiskit) (1.4.1)\n",
            "Requirement already satisfied: jsonschema>=2.6 in /usr/local/lib/python3.6/dist-packages (from qiskit-terra==0.16.1->qiskit) (2.6.0)\n",
            "Collecting fastjsonschema>=2.10\n",
            "  Downloading https://files.pythonhosted.org/packages/c7/47/e860ab658dc2da844e6fdb76b12f6b3e14fbcb62fdd04f3e1c572bca20e1/fastjsonschema-2.14.5-py3-none-any.whl\n",
            "Collecting ply>=3.10\n",
            "\u001b[?25l  Downloading https://files.pythonhosted.org/packages/a3/58/35da89ee790598a0700ea49b2a66594140f44dec458c07e8e3d4979137fc/ply-3.11-py2.py3-none-any.whl (49kB)\n",
            "\u001b[K     |████████████████████████████████| 51kB 8.0MB/s \n",
            "\u001b[?25hRequirement already satisfied: networkx>=2.2 in /usr/local/lib/python3.6/dist-packages (from qiskit-terra==0.16.1->qiskit) (2.5)\n",
            "Collecting retworkx>=0.5.0\n",
            "\u001b[?25l  Downloading https://files.pythonhosted.org/packages/b7/21/5d4498cedb23927a31173176975e2162e0d6a2b80846ef254dd5500e10da/retworkx-0.7.2-cp36-cp36m-manylinux2010_x86_64.whl (1.3MB)\n",
            "\u001b[K     |████████████████████████████████| 1.3MB 46.4MB/s \n",
            "\u001b[?25hRequirement already satisfied: python-dateutil>=2.8.0 in /usr/local/lib/python3.6/dist-packages (from qiskit-terra==0.16.1->qiskit) (2.8.1)\n",
            "Requirement already satisfied: dill>=0.3 in /usr/local/lib/python3.6/dist-packages (from qiskit-terra==0.16.1->qiskit) (0.3.3)\n",
            "Requirement already satisfied: numpy>=1.17 in /usr/local/lib/python3.6/dist-packages (from qiskit-terra==0.16.1->qiskit) (1.19.5)\n",
            "Collecting sympy>=1.3\n",
            "\u001b[?25l  Downloading https://files.pythonhosted.org/packages/ff/69/b16fc81b939d3efdd0b552f2e3e54f7fa1423d0c320cced2e69e675dde26/sympy-1.7.1-py3-none-any.whl (5.9MB)\n",
            "\u001b[K     |████████████████████████████████| 5.9MB 44.4MB/s \n",
            "\u001b[?25hRequirement already satisfied: cython>=0.27.1 in /usr/local/lib/python3.6/dist-packages (from qiskit-aer==0.7.2->qiskit) (0.29.21)\n",
            "Collecting pybind11>=2.4\n",
            "\u001b[?25l  Downloading https://files.pythonhosted.org/packages/00/84/fc9dc13ee536ba5e6b8fd10ce368fea5b738fe394c3b296cde7c9b144a92/pybind11-2.6.1-py2.py3-none-any.whl (188kB)\n",
            "\u001b[K     |████████████████████████████████| 194kB 50.0MB/s \n",
            "\u001b[?25hRequirement already satisfied: nest-asyncio!=1.1.0,>=1.0.0 in /usr/local/lib/python3.6/dist-packages (from qiskit-ibmq-provider==0.11.1->qiskit) (1.4.3)\n",
            "Collecting websockets>=8\n",
            "\u001b[?25l  Downloading https://files.pythonhosted.org/packages/bb/d9/856af84843912e2853b1b6e898ac8b802989fcf9ecf8e8445a1da263bf3b/websockets-8.1-cp36-cp36m-manylinux2010_x86_64.whl (78kB)\n",
            "\u001b[K     |████████████████████████████████| 81kB 10.5MB/s \n",
            "\u001b[?25hCollecting requests-ntlm>=1.1.0\n",
            "  Downloading https://files.pythonhosted.org/packages/03/4b/8b9a1afde8072c4d5710d9fa91433d504325821b038e00237dc8d6d833dc/requests_ntlm-1.1.0-py2.py3-none-any.whl\n",
            "Requirement already satisfied: urllib3>=1.21.1 in /usr/local/lib/python3.6/dist-packages (from qiskit-ibmq-provider==0.11.1->qiskit) (1.24.3)\n",
            "Requirement already satisfied: requests>=2.19 in /usr/local/lib/python3.6/dist-packages (from qiskit-ibmq-provider==0.11.1->qiskit) (2.23.0)\n",
            "Requirement already satisfied: setuptools>=40.1.0 in /usr/local/lib/python3.6/dist-packages (from qiskit-ignis==0.5.1->qiskit) (51.3.3)\n",
            "Requirement already satisfied: scikit-learn>=0.17 in /usr/local/lib/python3.6/dist-packages (from qiskit-ignis==0.5.1->qiskit) (0.22.2.post1)\n",
            "Collecting yfinance\n",
            "  Downloading https://files.pythonhosted.org/packages/7a/e8/b9d7104d3a4bf39924799067592d9e59119fcfc900a425a12e80a3123ec8/yfinance-0.1.55.tar.gz\n",
            "Requirement already satisfied: fastdtw in /usr/local/lib/python3.6/dist-packages (from qiskit-aqua==0.8.1->qiskit) (0.3.4)\n",
            "Requirement already satisfied: h5py in /usr/local/lib/python3.6/dist-packages (from qiskit-aqua==0.8.1->qiskit) (2.10.0)\n",
            "Collecting dlx\n",
            "  Downloading https://files.pythonhosted.org/packages/54/c0/b8fb5bb727e983b6f5251433ef941b48f38c65bb0bd6ec509e9185bcd406/dlx-1.0.4.tar.gz\n",
            "Requirement already satisfied: pandas in /usr/local/lib/python3.6/dist-packages (from qiskit-aqua==0.8.1->qiskit) (1.1.5)\n",
            "Collecting docplex\n",
            "\u001b[?25l  Downloading https://files.pythonhosted.org/packages/6e/53/7d85a2e2b8559d3dc08ffde370c0f57189ffd9e35493acf1f719f6ac5e0d/docplex-2.19.202.tar.gz (607kB)\n",
            "\u001b[K     |████████████████████████████████| 614kB 42.0MB/s \n",
            "\u001b[?25hCollecting quandl\n",
            "  Downloading https://files.pythonhosted.org/packages/c2/58/9f0e69d836045e3865d263e9ed49f42b23a58526fdabb30f74c430baee3f/Quandl-3.6.0-py2.py3-none-any.whl\n",
            "Collecting immutables>=0.9\n",
            "\u001b[?25l  Downloading https://files.pythonhosted.org/packages/99/e0/ea6fd4697120327d26773b5a84853f897a68e33d3f9376b00a8ff96e4f63/immutables-0.14-cp36-cp36m-manylinux1_x86_64.whl (98kB)\n",
            "\u001b[K     |████████████████████████████████| 102kB 12.4MB/s \n",
            "\u001b[?25hRequirement already satisfied: decorator>=4.3.0 in /usr/local/lib/python3.6/dist-packages (from networkx>=2.2->qiskit-terra==0.16.1->qiskit) (4.4.2)\n",
            "Requirement already satisfied: six>=1.5 in /usr/local/lib/python3.6/dist-packages (from python-dateutil>=2.8.0->qiskit-terra==0.16.1->qiskit) (1.15.0)\n",
            "Requirement already satisfied: mpmath>=0.19 in /usr/local/lib/python3.6/dist-packages (from sympy>=1.3->qiskit-terra==0.16.1->qiskit) (1.1.0)\n",
            "Collecting ntlm-auth>=1.0.2\n",
            "  Downloading https://files.pythonhosted.org/packages/ff/84/97c550164b54942b0e908c31ef09d9469f3ba4cd7332a671e2125732f63b/ntlm_auth-1.5.0-py2.py3-none-any.whl\n",
            "Collecting cryptography>=1.3\n",
            "\u001b[?25l  Downloading https://files.pythonhosted.org/packages/c9/de/7054df0620b5411ba45480f0261e1fb66a53f3db31b28e3aa52c026e72d9/cryptography-3.3.1-cp36-abi3-manylinux2010_x86_64.whl (2.6MB)\n",
            "\u001b[K     |████████████████████████████████| 2.6MB 42.9MB/s \n",
            "\u001b[?25hRequirement already satisfied: idna<3,>=2.5 in /usr/local/lib/python3.6/dist-packages (from requests>=2.19->qiskit-ibmq-provider==0.11.1->qiskit) (2.10)\n",
            "Requirement already satisfied: chardet<4,>=3.0.2 in /usr/local/lib/python3.6/dist-packages (from requests>=2.19->qiskit-ibmq-provider==0.11.1->qiskit) (3.0.4)\n",
            "Requirement already satisfied: certifi>=2017.4.17 in /usr/local/lib/python3.6/dist-packages (from requests>=2.19->qiskit-ibmq-provider==0.11.1->qiskit) (2020.12.5)\n",
            "Requirement already satisfied: joblib>=0.11 in /usr/local/lib/python3.6/dist-packages (from scikit-learn>=0.17->qiskit-ignis==0.5.1->qiskit) (1.0.0)\n",
            "Requirement already satisfied: multitasking>=0.0.7 in /usr/local/lib/python3.6/dist-packages (from yfinance->qiskit-aqua==0.8.1->qiskit) (0.0.9)\n",
            "Collecting lxml>=4.5.1\n",
            "\u001b[?25l  Downloading https://files.pythonhosted.org/packages/bd/78/56a7c88a57d0d14945472535d0df9fb4bbad7d34ede658ec7961635c790e/lxml-4.6.2-cp36-cp36m-manylinux1_x86_64.whl (5.5MB)\n",
            "\u001b[K     |████████████████████████████████| 5.5MB 23.8MB/s \n",
            "\u001b[?25hRequirement already satisfied: pytz>=2017.2 in /usr/local/lib/python3.6/dist-packages (from pandas->qiskit-aqua==0.8.1->qiskit) (2018.9)\n",
            "Requirement already satisfied: more-itertools in /usr/local/lib/python3.6/dist-packages (from quandl->qiskit-aqua==0.8.1->qiskit) (8.6.0)\n",
            "Collecting inflection>=0.3.1\n",
            "  Downloading https://files.pythonhosted.org/packages/59/91/aa6bde563e0085a02a435aa99b49ef75b0a4b062635e606dab23ce18d720/inflection-0.5.1-py2.py3-none-any.whl\n",
            "Requirement already satisfied: cffi>=1.12 in /usr/local/lib/python3.6/dist-packages (from cryptography>=1.3->requests-ntlm>=1.1.0->qiskit-ibmq-provider==0.11.1->qiskit) (1.14.4)\n",
            "Requirement already satisfied: pycparser in /usr/local/lib/python3.6/dist-packages (from cffi>=1.12->cryptography>=1.3->requests-ntlm>=1.1.0->qiskit-ibmq-provider==0.11.1->qiskit) (2.20)\n",
            "Building wheels for collected packages: qiskit, python-constraint, contextvars, yfinance, dlx, docplex\n",
            "  Building wheel for qiskit (setup.py) ... \u001b[?25l\u001b[?25hdone\n",
            "  Created wheel for qiskit: filename=qiskit-0.23.2-cp36-none-any.whl size=2876 sha256=d8b0d47c9fd9af61e024606804410d6944232af1de14bdd436129d9c51e084b1\n",
            "  Stored in directory: /root/.cache/pip/wheels/c2/62/3e/d5aeec3b19ba0e2c0c10292747d0bd4489b34e3f3385a908d0\n",
            "  Building wheel for python-constraint (setup.py) ... \u001b[?25l\u001b[?25hdone\n",
            "  Created wheel for python-constraint: filename=python_constraint-1.4.0-py2.py3-none-any.whl size=24079 sha256=e1bf0d7d97b7a5b8377917154826170ded1d7fe7821fd32be337b948043c4ed6\n",
            "  Stored in directory: /root/.cache/pip/wheels/34/31/15/7b070b25d0a549d20ce2e9fe6d727471c2c61ef904720fd40c\n",
            "  Building wheel for contextvars (setup.py) ... \u001b[?25l\u001b[?25hdone\n",
            "  Created wheel for contextvars: filename=contextvars-2.4-cp36-none-any.whl size=7667 sha256=e97c8114f90071efed85216c3caac288cc104999a2090b95f776df25121ed82d\n",
            "  Stored in directory: /root/.cache/pip/wheels/a5/7d/68/1ebae2668bda2228686e3c1cf16f2c2384cea6e9334ad5f6de\n",
            "  Building wheel for yfinance (setup.py) ... \u001b[?25l\u001b[?25hdone\n",
            "  Created wheel for yfinance: filename=yfinance-0.1.55-py2.py3-none-any.whl size=22616 sha256=4be683274f0552a7c62fe344a522e69b3a58c53b255cb9c4e132fa6da2c25c9d\n",
            "  Stored in directory: /root/.cache/pip/wheels/04/98/cc/2702a4242d60bdc14f48b4557c427ded1fe92aedf257d4565c\n",
            "  Building wheel for dlx (setup.py) ... \u001b[?25l\u001b[?25hdone\n",
            "  Created wheel for dlx: filename=dlx-1.0.4-cp36-none-any.whl size=5711 sha256=3d55e012c4a3cb24e0b1475f6f206c99d16b3833abe8c590ed6dd929a4f1e97c\n",
            "  Stored in directory: /root/.cache/pip/wheels/bb/ba/15/fdd0deb104df3254912998150ba9245668db06b00af5912d1a\n",
            "  Building wheel for docplex (setup.py) ... \u001b[?25l\u001b[?25hdone\n",
            "  Created wheel for docplex: filename=docplex-2.19.202-cp36-none-any.whl size=670938 sha256=1993a23617b84f5809c96c0d761ce090e406466b00e8ff9c421c68f27cae0f15\n",
            "  Stored in directory: /root/.cache/pip/wheels/33/bb/64/5dd51006e730eb1227b8033d1f9e2246b806d9985a70c90d99\n",
            "Successfully built qiskit python-constraint contextvars yfinance dlx docplex\n",
            "Installing collected packages: python-constraint, immutables, contextvars, fastjsonschema, ply, retworkx, sympy, qiskit-terra, pybind11, qiskit-aer, websockets, ntlm-auth, cryptography, requests-ntlm, qiskit-ibmq-provider, qiskit-ignis, lxml, yfinance, dlx, docplex, inflection, quandl, qiskit-aqua, qiskit\n",
            "  Found existing installation: sympy 1.1.1\n",
            "    Uninstalling sympy-1.1.1:\n",
            "      Successfully uninstalled sympy-1.1.1\n",
            "  Found existing installation: lxml 4.2.6\n",
            "    Uninstalling lxml-4.2.6:\n",
            "      Successfully uninstalled lxml-4.2.6\n",
            "Successfully installed contextvars-2.4 cryptography-3.3.1 dlx-1.0.4 docplex-2.19.202 fastjsonschema-2.14.5 immutables-0.14 inflection-0.5.1 lxml-4.6.2 ntlm-auth-1.5.0 ply-3.11 pybind11-2.6.1 python-constraint-1.4.0 qiskit-0.23.2 qiskit-aer-0.7.2 qiskit-aqua-0.8.1 qiskit-ibmq-provider-0.11.1 qiskit-ignis-0.5.1 qiskit-terra-0.16.1 quandl-3.6.0 requests-ntlm-1.1.0 retworkx-0.7.2 sympy-1.7.1 websockets-8.1 yfinance-0.1.55\n"
          ],
          "name": "stdout"
        }
      ]
    },
    {
      "cell_type": "code",
      "metadata": {
        "colab": {
          "base_uri": "https://localhost:8080/",
          "height": 290
        },
        "id": "k2P3G5K7GcWT",
        "outputId": "237c4a19-abc3-4f16-88ac-eaa99701dc81"
      },
      "source": [
        "import qiskit.tools.jupyter\r\n",
        "%qiskit_version_table  # See the version of Qiskit"
      ],
      "execution_count": null,
      "outputs": [
        {
          "output_type": "display_data",
          "data": {
            "text/html": [
              "<h3>Version Information</h3><table><tr><th>Qiskit Software</th><th>Version</th></tr><tr><td>Qiskit</td><td>None</td></tr><tr><td>Terra</td><td>0.16.1</td></tr><tr><td>Aer</td><td>0.7.2</td></tr><tr><td>Ignis</td><td>0.5.1</td></tr><tr><td>Aqua</td><td>0.8.1</td></tr><tr><td>IBM Q Provider</td><td>0.11.1</td></tr><tr><th>System information</th></tr><tr><td>Python</td><td>3.6.9 (default, Oct  8 2020, 12:12:24) \n",
              "[GCC 8.4.0]</td></tr><tr><td>OS</td><td>Linux</td></tr><tr><td>CPUs</td><td>1</td></tr><tr><td>Memory (Gb)</td><td>12.71590805053711</td></tr><tr><td colspan='2'>Sun Jan 24 18:11:21 2021 UTC</td></tr></table>"
            ],
            "text/plain": [
              "<IPython.core.display.HTML object>"
            ]
          },
          "metadata": {
            "tags": []
          }
        }
      ]
    },
    {
      "cell_type": "code",
      "metadata": {
        "id": "iMk2mv_QHGrc"
      },
      "source": [
        "\r\n",
        "# Qiskit module\r\n",
        "from qiskit import QuantumCircuit\r\n",
        "import qiskit.circuit.library as circuit_library\r\n",
        "import qiskit.quantum_info as qi\r\n",
        "import qiskit.ignis.mitigation as mit\r\n",
        "\r\n",
        "# Qiskit tools for noisy simulation\r\n",
        "from qiskit.providers.aer import QasmSimulator\r\n",
        "from qiskit.providers.aer.noise import NoiseModel\r\n",
        "from qiskit.providers.aer.utils import insert_noise\r\n",
        "\r\n",
        "# Qiskit tools for running and monitoring jobs\r\n",
        "from qiskit import execute\r\n",
        "from qiskit.tools.monitor import job_monitor\r\n",
        "\r\n",
        "# Other imports\r\n",
        "import numpy as np\r\n",
        "\r\n",
        "# Suppress warnings\r\n",
        "import warnings\r\n",
        "warnings.filterwarnings('ignore')"
      ],
      "execution_count": null,
      "outputs": []
    },
    {
      "cell_type": "code",
      "metadata": {
        "id": "T4PL2hdy1FEo"
      },
      "source": [
        "# Load IBMQ Account data\r\n",
        "#from qiskit import IBMQ\r\n",
        "#IBMQ.load_account()\r\n",
        "\r\n",
        "# Get backend for experiment\r\n",
        "#provider = IBMQ.get_provider(hub='ibm-q-community', group='ibmquantumawards', project='open-science')\r\n",
        "#backend = provider.get_backend('ibmq_casablanca')\r\n",
        "#properties = backend.properties()"
      ],
      "execution_count": null,
      "outputs": []
    },
    {
      "cell_type": "code",
      "metadata": {
        "id": "mqM7Uyqq1NoB"
      },
      "source": [
        "#backend = QasmSimulator.from_backend(provider.get_backend('ibmq_casablanca'))"
      ],
      "execution_count": null,
      "outputs": []
    },
    {
      "cell_type": "code",
      "metadata": {
        "id": "K59WRABCGd5Q"
      },
      "source": [
        "\r\n",
        "num_qubits = 7\r\n",
        "\r\n",
        "# Adjacency matrix \r\n",
        "adjmat = [\r\n",
        "    [0, 1, 0, 0, 0, 0, 0], \r\n",
        "    [1, 0, 1, 1, 0, 0, 0], \r\n",
        "    [0, 1, 0, 0, 0, 0, 0], \r\n",
        "    [0, 1, 0, 0, 0, 1, 0], \r\n",
        "    [0, 0, 0, 0, 0, 1, 0], \r\n",
        "    [0, 0, 0, 1, 1, 0, 1], \r\n",
        "    [0, 0, 0, 0, 0, 1, 0]]"
      ],
      "execution_count": null,
      "outputs": []
    },
    {
      "cell_type": "code",
      "metadata": {
        "id": "1YgcP902G5Qf"
      },
      "source": [
        "# (1/23) Is it possible to do gate calibration before making a graph state? \r\n",
        "\r\n",
        "# (1/23) If we can use extra qubit, what kind of quantum error correction code we can do here?\r\n",
        "\r\n",
        "def create_graph_state(): # To create the graph state using circuit library.\r\n",
        "    \r\n",
        "    ### YOUR CODE GOES HERE -- START\r\n",
        "    \r\n",
        "    graph_state_circuit = circuit_library.GraphState(adjmat)\r\n",
        "    \r\n",
        "    ### YOUR CODE GOES HERE -- END\r\n",
        "    \r\n",
        "    return graph_state_circuit"
      ],
      "execution_count": null,
      "outputs": []
    },
    {
      "cell_type": "markdown",
      "metadata": {
        "id": "t_a_3DmoFwJU"
      },
      "source": [
        "# The Definition of Graph State\r\n",
        "$\\left|G\\left(V,E\\right)\\right\\rangle =\\sum_{\\left\\{ i,j\\right\\} \\in E}{\\rm CZ}\\left(i,j\\right)\\left|+\\right\\rangle ^{\\otimes V}$,\r\n",
        "where $\\rm CZ$ means controll Z gate, $V$ represents vertexs and $E$ denotes the edges between $i,j$ vertexs. One can also define the operators $S_v$\r\n",
        "\r\n",
        "$S_{v}=\\sigma_{x}^{(v)}\\prod_{\\left\\{ u,v\\right\\} \\in E}\\sigma_{z}^{(u)}$\r\n",
        "\r\n",
        "of which one of eigenvectors is the graph state.\r\n",
        "\r\n",
        "For instance, the triangle graph state $K_3$ can be express as\r\n",
        "\r\n",
        "$\\left|K_{3}\\right\\rangle =\\frac{1}{\\sqrt{8}}\\left(\\left|000\\right\\rangle +\\left|100\\right\\rangle +\\left|010\\right\\rangle +\\left|001\\right\\rangle -\\left|110\\right\\rangle -\\left|101\\right\\rangle -\\left|011\\right\\rangle -\\left|111\\right\\rangle \\right)$\r\n",
        "\r\n",
        "![Triangle graph.png](data:image/png;base64,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)\r\n",
        "\r\n",
        "The corresponding operators are\r\n",
        "\r\n",
        "$\\left|S_{1}\\right\\rangle = \\sigma_x \\otimes \\sigma_z \\otimes \\sigma_z$\r\n",
        "\r\n",
        "$\\left|S_{2}\\right\\rangle = \\sigma_z \\otimes \\sigma_x \\otimes \\sigma_z$\r\n",
        "\r\n",
        "$\\left|S_{3}\\right\\rangle = \\sigma_z \\otimes \\sigma_z \\otimes \\sigma_x$\r\n",
        "\r\n"
      ]
    },
    {
      "cell_type": "code",
      "metadata": {
        "colab": {
          "base_uri": "https://localhost:8080/",
          "height": 366
        },
        "id": "uA7ZJuPfG88_",
        "outputId": "7deddb51-df94-4a4e-ea33-99da50af4f76"
      },
      "source": [
        "\r\n",
        "# the graph state can be created using Qiskit's circuit library\r\n",
        "\r\n",
        "state_circuit = create_graph_state()\r\n",
        "state_circuit.draw(output = \"mpl\") # Show the quantum circuit used to create the graph state."
      ],
      "execution_count": null,
      "outputs": [
        {
          "output_type": "execute_result",
          "data": {
            "image/png": "[encoded data removed]",
            "text/plain": [
              "<Figure size 507.997x445.48 with 1 Axes>"
            ]
          },
          "metadata": {
            "tags": []
          },
          "execution_count": 7
        }
      ]
    },
    {
      "cell_type": "code",
      "metadata": {
        "id": "8BCZ0EfuHxcl"
      },
      "source": [
        "\r\n",
        "def compute_stabilizer_group(circuit):\r\n",
        "    \"\"\"Compute the stabilizer group for stabilizer circuit.\"\"\"\r\n",
        "    state = qi.Statevector.from_instruction(circuit)\r\n",
        "    labels = []\r\n",
        "    for i in qi.pauli_basis(state.num_qubits):\r\n",
        "        val = round(qi.state_fidelity(i.to_matrix()[0], state, validate=False))\r\n",
        "        if val != 0:\r\n",
        "            label = i.to_labels()[0]\r\n",
        "            if val == 1:\r\n",
        "                label = '+' + label\r\n",
        "            else:\r\n",
        "                label = '-' + label\r\n",
        "            labels.append(label)\r\n",
        "    return labels\r\n",
        "\r\n",
        "def stabilizer_coeff_pauli(stabilizer):\r\n",
        "    \"\"\"Return the 1 or -1 coeff and Pauli label.\"\"\"\r\n",
        "    coeff = 1\r\n",
        "    pauli = coeff\r\n",
        "    if stabilizer[0] == '-':\r\n",
        "        coeff = -1\r\n",
        "    if stabilizer[0] in ['+', '-']:\r\n",
        "        pauli = stabilizer[1:]\r\n",
        "    else:\r\n",
        "        pauli = stabilizer\r\n",
        "    return coeff, pauli\r\n",
        "\r\n",
        "def stabilizer_measure_circuit(stabilizer, initial_circuit=None): \r\n",
        "    \"\"\"Return a stabilizer measurement circuits.\r\n",
        "    \r\n",
        "    Args:\r\n",
        "        stabilizer (str): a stabilizer string\r\n",
        "        initial_circuit (QuantumCircuit): Optional, the initial circuit.\r\n",
        "    \r\n",
        "    Returns:\r\n",
        "        QuantumCircuit: the circuit with stabilizer measurements.\r\n",
        "    \"\"\"\r\n",
        "    _, pauli = stabilizer_coeff_pauli(stabilizer)\r\n",
        "    if initial_circuit is None:\r\n",
        "        circ = QuantumCircuit(len(pauli))\r\n",
        "    else:\r\n",
        "        circ = initial_circuit.copy()\r\n",
        "    for i, s in enumerate(reversed(pauli)):\r\n",
        "        if s == 'X':\r\n",
        "            circ.h(i)\r\n",
        "        if s == 'Y':\r\n",
        "            circ.sdg(i)\r\n",
        "            circ.h(i)\r\n",
        "    circ.measure_all()\r\n",
        "    return circ"
      ],
      "execution_count": null,
      "outputs": []
    },
    {
      "cell_type": "code",
      "metadata": {
        "colab": {
          "base_uri": "https://localhost:8080/"
        },
        "id": "rqcsOeMwIFjM",
        "outputId": "89553c62-7494-4f60-b56a-6c6f1b9d54cd"
      },
      "source": [
        "\r\n",
        "## Compute the stabilizers for this graph state\r\n",
        "generators = qi.Clifford(state_circuit).stabilizer.pauli.to_labels()\r\n",
        "stabilizers = compute_stabilizer_group(state_circuit) #\r\n",
        "print('Stabilizers:', stabilizers)\r\n",
        "print('Generators:', generators) # The operaters of graph state"
      ],
      "execution_count": null,
      "outputs": [
        {
          "output_type": "stream",
          "text": [
            "Stabilizers: ['+IIIIIII', '+IIIIIZX', '+IIIIXIX', '+IIIIXZI', '-IIIZYXY', '+IIIZYYZ', '+IIIZZXZ', '+IIIZZYY', '+IIXXIIX', '+IIXXIZI', '+IIXXXII', '+IIXXXZX', '-IIXYYXZ', '-IIXYYYY', '-IIXYZXY', '+IIXYZYZ', '+IZIXIIX', '+IZIXIZI', '+IZIXXII', '+IZIXXZX', '-IZIYYXZ', '-IZIYYYY', '-IZIYZXY', '+IZIYZYZ', '+IZXIIII', '+IZXIIZX', '+IZXIXIX', '+IZXIXZI', '-IZXZYXY', '+IZXZYYZ', '+IZXZZXZ', '+IZXZZYY', '+XIIXIIX', '+XIIXIZI', '+XIIXXII', '+XIIXXZX', '-XIIYYXZ', '-XIIYYYY', '-XIIYZXY', '+XIIYZYZ', '+XIXIIII', '+XIXIIZX', '+XIXIXIX', '+XIXIXZI', '-XIXZYXY', '+XIXZYYZ', '+XIXZZXZ', '+XIXZZYY', '+XZIIIII', '+XZIIIZX', '+XZIIXIX', '+XZIIXZI', '-XZIZYXY', '+XZIZYYZ', '+XZIZZXZ', '+XZIZZYY', '+XZXXIIX', '+XZXXIZI', '+XZXXXII', '+XZXXXZX', '-XZXYYXZ', '-XZXYYYY', '-XZXYZXY', '+XZXYZYZ', '+YXYIYXY', '-YXYIYYZ', '-YXYIZXZ', '-YXYIZYY', '-YXYZIII', '-YXYZIZX', '-YXYZXIX', '-YXYZXZI', '-YXZXYXZ', '-YXZXYYY', '-YXZXZXY', '+YXZXZYZ', '-YXZYIIX', '-YXZYIZI', '-YXZYXII', '-YXZYXZX', '-YYYXYXZ', '-YYYXYYY', '-YYYXZXY', '+YYYXZYZ', '-YYYYIIX', '-YYYYIZI', '-YYYYXII', '-YYYYXZX', '-YYZIYXY', '+YYZIYYZ', '+YYZIZXZ', '+YYZIZYY', '+YYZZIII', '+YYZZIZX', '+YYZZXIX', '+YYZZXZI', '-ZXYXYXZ', '-ZXYXYYY', '-ZXYXZXY', '+ZXYXZYZ', '-ZXYYIIX', '-ZXYYIZI', '-ZXYYXII', '-ZXYYXZX', '-ZXZIYXY', '+ZXZIYYZ', '+ZXZIZXZ', '+ZXZIZYY', '+ZXZZIII', '+ZXZZIZX', '+ZXZZXIX', '+ZXZZXZI', '-ZYYIYXY', '+ZYYIYYZ', '+ZYYIZXZ', '+ZYYIZYY', '+ZYYZIII', '+ZYYZIZX', '+ZYYZXIX', '+ZYYZXZI', '+ZYZXYXZ', '+ZYZXYYY', '+ZYZXZXY', '-ZYZXZYZ', '+ZYZYIIX', '+ZYZYIZI', '+ZYZYXII', '+ZYZYXZX']\n",
            "Generators: ['IIIIIZX', 'IIIZZXZ', 'IIIIXZI', 'IZIXIZI', 'IZXIIII', 'ZXZZIII', 'XZIIIII']\n"
          ],
          "name": "stdout"
        }
      ]
    },
    {
      "cell_type": "code",
      "metadata": {
        "colab": {
          "base_uri": "https://localhost:8080/",
          "height": 413
        },
        "id": "aI7aMxK2INOp",
        "outputId": "8ce0ba0f-b281-40e6-9cef-6dd1dbbc6674"
      },
      "source": [
        "\r\n",
        "## Append the stabilizer measurements to the graph state circuit \r\n",
        "stabilizer_circuits = [stabilizer_measure_circuit(stab, state_circuit)\r\n",
        "                       for stab in stabilizers]\r\n",
        "\r\n",
        "\r\n",
        "#  X: apply h gate so that one can measure it with x-basis\r\n",
        "\r\n",
        "#  Y: apply sdg gate and h gate so that one can measure it with y-basis\r\n",
        "\r\n",
        "\r\n",
        "stabilizer_circuits[0].draw(output = \"mpl\") # The first circuit to do the stabilizer mesurement with the first stabilizer operator. # IIIIIII.\r\n",
        "#"
      ],
      "execution_count": null,
      "outputs": [
        {
          "output_type": "execute_result",
          "data": {
            "image/png": "[encoded data removed]",
            "text/plain": [
              "<Figure size 1019.88x505.68 with 1 Axes>"
            ]
          },
          "metadata": {
            "tags": []
          },
          "execution_count": 10
        }
      ]
    },
    {
      "cell_type": "code",
      "metadata": {
        "colab": {
          "base_uri": "https://localhost:8080/",
          "height": 413
        },
        "id": "K-IJe65v8C1S",
        "outputId": "d6cd5fe6-f4ec-4809-bf47-ddecb12b28db"
      },
      "source": [
        "stabilizer_circuits[1].draw(output = \"mpl\") # The second circuit to do the stabilizer mesurement with the second stabilizer operator, IIIIIZX."
      ],
      "execution_count": null,
      "outputs": [
        {
          "output_type": "execute_result",
          "data": {
            "image/png": "[encoded data removed]",
            "text/plain": [
              "<Figure size 1019.88x505.68 with 1 Axes>"
            ]
          },
          "metadata": {
            "tags": []
          },
          "execution_count": 11
        }
      ]
    },
    {
      "cell_type": "code",
      "metadata": {
        "colab": {
          "base_uri": "https://localhost:8080/",
          "height": 413
        },
        "id": "u5xunGFi8QzM",
        "outputId": "b987d045-65df-44ba-fe23-e04c29f6fb06"
      },
      "source": [
        "stabilizer_circuits[2].draw(output = \"mpl\") # The third circuit to do the stabilizer mesurement with the third stabilizer operator, IIIIXIX."
      ],
      "execution_count": null,
      "outputs": [
        {
          "output_type": "execute_result",
          "data": {
            "image/png": "[encoded data removed]",
            "text/plain": [
              "<Figure size 1019.88x505.68 with 1 Axes>"
            ]
          },
          "metadata": {
            "tags": []
          },
          "execution_count": 12
        }
      ]
    },
    {
      "cell_type": "code",
      "metadata": {
        "id": "p1ss7uF2JSOV"
      },
      "source": [
        "labels = ['0000000', '0000011', '0000101', \r\n",
        "          '0001001', '0001010', '0001100', \r\n",
        "          '0010001', '0010010', '0010100', '0011000', \r\n",
        "          '0100001', '0100010', '0100100', '0101000', '0110000', \r\n",
        "          '1000001', '1000010', '1000100', '1001000', '1010000', '1100000', \r\n",
        "          '1111111'] # States is used to calibrate the measurement error. \r\n",
        "\r\n",
        "\r\n",
        "# meas_cal_circuits: List of quantum circuits\r\n",
        "\r\n",
        "# metadata: List of dictionary like below\r\n",
        "\r\n",
        "# 'experiment': 'meas_mit',\r\n",
        "\r\n",
        "# 'cal': label,\r\n",
        "\r\n",
        "# 'method': method,\r\n",
        "\r\n",
        "\r\n",
        "meas_cal_circuits, metadata = mit.expval_meas_mitigator_circuits(num_qubits, labels=labels) # Generate measurement error mitigator circuits and metadata\r\n",
        "\r\n"
      ],
      "execution_count": null,
      "outputs": []
    },
    {
      "cell_type": "code",
      "metadata": {
        "id": "V_ZBZc7rJaoo"
      },
      "source": [
        "[meas_cal_circuits_full, state_labels] = mit.complete_meas_cal(range(num_qubits)) # Return a list of measurement calibration circuits for the full Hilbert space.\r\n"
      ],
      "execution_count": null,
      "outputs": []
    },
    {
      "cell_type": "code",
      "metadata": {
        "id": "PMzFiTc1Jpbf"
      },
      "source": [
        "reps = 16"
      ],
      "execution_count": null,
      "outputs": []
    },
    {
      "cell_type": "code",
      "metadata": {
        "id": "9nfxoIclY8U9"
      },
      "source": [
        "# Create the noise model to simulate the real device\r\n",
        "from qiskit import *\r\n",
        "import numpy as np\r\n",
        "from random import random\r\n",
        "from qiskit.extensions import Initialize\r\n",
        "from qiskit.visualization import plot_histogram, plot_bloch_multivector\r\n",
        "import qiskit.providers.aer.noise as noise\r\n",
        "prob_1 = 0.000435   # 1-qubit gate\r\n",
        "prob_2 = 0.0175   # 2-qubit gate\r\n",
        "\r\n",
        "# 1-qubit readout error \r\n",
        "probabilities = np.zeros((2,2))\r\n",
        "\r\n",
        "probabilities[0] = np.array([0.966, 0.034])\r\n",
        "probabilities[1] = np.array([0.034, 0.966])\r\n",
        "\r\n",
        "RE = noise.errors.ReadoutError(probabilities)\r\n",
        "\r\n",
        "# phase_amplitude_damping_error\r\n",
        "error_1 = noise.phase_amplitude_damping_error(prob_1, 0.1, 1)\r\n",
        "\r\n",
        "\r\n",
        "# Depolarizing quantum errors\r\n",
        "#error_1 = noise.depolarizing_error(prob_1, 1)\r\n",
        "error_2 = noise.depolarizing_error(prob_2, 2)\r\n",
        "\r\n",
        "# Add errors to noise model\r\n",
        "noise_model = noise.NoiseModel()\r\n",
        "noise_model.add_all_qubit_quantum_error(error_1, ['h','x','sdg'])\r\n",
        "noise_model.add_all_qubit_readout_error(RE)\r\n",
        "noise_model.add_all_qubit_quantum_error(error_2, ['cz'])\r\n",
        "\r\n",
        "# Get basis gates from noise model\r\n",
        "basis_gates = noise_model.basis_gates"
      ],
      "execution_count": null,
      "outputs": []
    },
    {
      "cell_type": "code",
      "metadata": {
        "colab": {
          "base_uri": "https://localhost:8080/"
        },
        "id": "OXaumHqtJ881",
        "outputId": "66def18c-e59a-46e2-c85a-7ce0bc7f5fca"
      },
      "source": [
        "\r\n",
        "all_jobs = []\r\n",
        "all_jobs_mit = []\r\n",
        "\r\n",
        "for ii in range(reps):\r\n",
        "\r\n",
        "    # Run QPT on backend\r\n",
        "    shots = 8192\r\n",
        "    il = [0,1,2,3,4,5,6] \r\n",
        "    \r\n",
        "    job_backend = execute(stabilizer_circuits, Aer.get_backend('qasm_simulator'), shots=shots, initial_layout=il, basis_gates=basis_gates,noise_model=noise_model)\r\n",
        "    job_mit_backend = execute(meas_cal_circuits, Aer.get_backend('qasm_simulator'), shots=shots, initial_layout=il, basis_gates=basis_gates,noise_model=noise_model)\r\n",
        "    print('Job IDs ({}/{}): \\n measurement calibration: {}\\n stabilizer measurements: {}'.format(\r\n",
        "        ii+1, reps, job_mit_backend.job_id(), job_backend.job_id()))\r\n",
        "\r\n",
        "    all_jobs.append(job_backend)\r\n",
        "    all_jobs_mit.append(job_mit_backend)"
      ],
      "execution_count": null,
      "outputs": [
        {
          "output_type": "stream",
          "text": [
            "Job IDs (1/16): \n",
            " measurement calibration: 61d1795b-72ab-4a33-977f-fb8285c01bea\n",
            " stabilizer measurements: ceb45478-30b3-4336-a235-c2dead48c77d\n",
            "Job IDs (2/16): \n",
            " measurement calibration: 08c6bb02-da7c-41d7-af5e-9ce79dc3120b\n",
            " stabilizer measurements: 9d5f4da4-f752-4ee8-9ac1-d956ca125acc\n",
            "Job IDs (3/16): \n",
            " measurement calibration: da926fdf-8f50-4e7c-a74a-037755ad8858\n",
            " stabilizer measurements: 7f902131-88e1-47d7-a68a-9a56e116cbcb\n",
            "Job IDs (4/16): \n",
            " measurement calibration: 9e9becfd-66c2-4558-911b-d70fd0fc4a74\n",
            " stabilizer measurements: 88264c94-13a1-422e-b25f-d0bd6c0efae5\n",
            "Job IDs (5/16): \n",
            " measurement calibration: 826edf34-5c96-43fe-b8fe-149459438edf\n",
            " stabilizer measurements: fb429e8c-9cc8-4f3b-848f-9b1c2a168aef\n",
            "Job IDs (6/16): \n",
            " measurement calibration: 9b2634a4-610c-4b8a-8e0c-09aa8e5111d8\n",
            " stabilizer measurements: 66452253-d93a-4cf1-b46e-260f9ee20177\n",
            "Job IDs (7/16): \n",
            " measurement calibration: e4d7678d-8c71-4a9a-bbd3-8e97dcd57540\n",
            " stabilizer measurements: 1380708e-9875-4075-8884-4c948e27431b\n",
            "Job IDs (8/16): \n",
            " measurement calibration: 8de7317c-78ec-48dd-8c7f-4f0abcb564dc\n",
            " stabilizer measurements: 389343a9-57cf-43e0-9636-9639a0c47be6\n",
            "Job IDs (9/16): \n",
            " measurement calibration: 1b7dac9a-2c24-4aa1-a390-b1585dc0d5e7\n",
            " stabilizer measurements: aa46cf89-ee65-4e87-b183-91c4cf02ee03\n",
            "Job IDs (10/16): \n",
            " measurement calibration: 532dc2ce-449d-4ec1-aa33-19d2fd087a91\n",
            " stabilizer measurements: 0d04aa4f-53b0-4932-aa0f-6ef18c8bd646\n",
            "Job IDs (11/16): \n",
            " measurement calibration: 7fc0c4a0-bed3-4160-beba-bbe95b1d1cac\n",
            " stabilizer measurements: df2951d7-b099-4ee9-baae-0f974426ca29\n",
            "Job IDs (12/16): \n",
            " measurement calibration: 2175bb56-4255-4f02-84ea-7e488d929604\n",
            " stabilizer measurements: 01f6d261-c24c-4995-968e-f1a0cc597d5f\n",
            "Job IDs (13/16): \n",
            " measurement calibration: 3203f708-3d7b-40c4-aee0-844631f835cf\n",
            " stabilizer measurements: 3626d4b0-730c-417d-91c2-c4475a58471e\n",
            "Job IDs (14/16): \n",
            " measurement calibration: 6b8c4dce-2482-46dc-804b-486909146a4a\n",
            " stabilizer measurements: 49d48635-6ff4-450d-b6be-0a243b46f064\n",
            "Job IDs (15/16): \n",
            " measurement calibration: 516c8a57-4d74-4181-bbf0-226acb48edd0\n",
            " stabilizer measurements: 8870a2e3-a35b-4fdf-8a5f-3e3b616ec00e\n",
            "Job IDs (16/16): \n",
            " measurement calibration: 4d2603e3-0282-44b2-8444-5d0d3ec7745d\n",
            " stabilizer measurements: 2e5cf4ba-b6b9-4a4c-88fb-bd40038054ef\n"
          ],
          "name": "stdout"
        }
      ]
    },
    {
      "cell_type": "code",
      "metadata": {
        "colab": {
          "base_uri": "https://localhost:8080/"
        },
        "id": "v9G3EA8kMi4V",
        "outputId": "10513082-63e4-43e6-b514-3382aa61fc5c"
      },
      "source": [
        "\r\n",
        "for job in all_jobs:\r\n",
        "    job_monitor(job)\r\n",
        "    try:\r\n",
        "        if job.error_message() is not None:\r\n",
        "            print(job.error_message())\r\n",
        "    except:\r\n",
        "        pass"
      ],
      "execution_count": null,
      "outputs": [
        {
          "output_type": "stream",
          "text": [
            "\rJob Status: job has successfully run\n",
            "\rJob Status: job has successfully run\n",
            "\rJob Status: job has successfully run\n",
            "\rJob Status: job has successfully run\n",
            "\rJob Status: job has successfully run\n",
            "\rJob Status: job has successfully run\n",
            "\rJob Status: job has successfully run\n",
            "\rJob Status: job has successfully run\n",
            "\rJob Status: job has successfully run\n",
            "\rJob Status: job has successfully run\n",
            "\rJob Status: job has successfully run\n",
            "\rJob Status: job has successfully run\n",
            "\rJob Status: job has successfully run\n",
            "\rJob Status: job has successfully run\n",
            "\rJob Status: job has successfully run\n",
            "\rJob Status: job has successfully run\n"
          ],
          "name": "stdout"
        }
      ]
    },
    {
      "cell_type": "code",
      "metadata": {
        "id": "h5bpmLOsnEOq"
      },
      "source": [
        "\r\n",
        "result_backend = []\r\n",
        "result_mit_backend = []\r\n",
        "for job in all_jobs:\r\n",
        "    # Retrieve results (this may take a while depending on the queue)\r\n",
        "\r\n",
        "    result_backend.append(job.result()) # Record the result of stablizer circuit\r\n",
        "    \r\n",
        "for job in all_jobs_mit:\r\n",
        "\r\n",
        "    result_mit_backend.append(job.result()) # Record the result of measurement calibration circuits"
      ],
      "execution_count": null,
      "outputs": []
    },
    {
      "cell_type": "code",
      "metadata": {
        "id": "xO1T4u1emm81"
      },
      "source": [
        "def stabilizer_measure_diagonal(stabilizer):\r\n",
        "    \"\"\"Return the diagonal vector for a stabilizer measurement.\r\n",
        "    \r\n",
        "    Args:\r\n",
        "        stabilizer (str): a stabilizer string\r\n",
        "    \r\n",
        "    Returns:\r\n",
        "        np.ndarray: the diagonal for measurement in the stabilizer basis.\r\n",
        "    \"\"\"\r\n",
        "    coeff, pauli = stabilizer_coeff_pauli(stabilizer)\r\n",
        "    diag = np.array([1])\r\n",
        "    for s in reversed(pauli):\r\n",
        "        if s == 'I':\r\n",
        "            tmp = np.array([1, 1])\r\n",
        "        else:\r\n",
        "            tmp = np.array([1, -1])\r\n",
        "        diag = np.kron(tmp, diag)\r\n",
        "    return coeff * diag\r\n",
        "    \r\n",
        "def stabilizer_fidelity(expvals, stddevs=None):\r\n",
        "    \"\"\"Compute stabilizer state fidelity from stabilizer expvals.\"\"\"\r\n",
        "    mean = np.mean(expvals)\r\n",
        "    if stddevs is None:\r\n",
        "        return mean\r\n",
        "    stddev = np.sqrt(np.sum(stddevs ** 2))\r\n",
        "    return mean, stddev"
      ],
      "execution_count": null,
      "outputs": []
    },
    {
      "cell_type": "code",
      "metadata": {
        "id": "CFovpt55ms9j"
      },
      "source": [
        "#(1/23) Is it possible for three qubit readout error? Or mutli-qubit readout error?\r\n",
        "\r\n",
        "def stabilizer_expvals(result, stabilizers, meas_mitigator=None):\r\n",
        "    \"\"\"Compute expectation values from stabilizer measurement results.\"\"\"\r\n",
        "\r\n",
        "    ### YOUR CODE GOES HERE -- START\r\n",
        "    \r\n",
        "    expvals = []\r\n",
        "    stddevs = []\r\n",
        "    for i, stab in enumerate(stabilizers):\r\n",
        "        expval, stddev = mit.expectation_value(\r\n",
        "            result.get_counts(i),\r\n",
        "            diagonal=stabilizer_measure_diagonal(stab),\r\n",
        "            meas_mitigator=meas_mitigator)\r\n",
        "        expvals.append(expval)\r\n",
        "        stddevs.append(stddev)\r\n",
        "    return np.array(expvals), np.array(stddevs)"
      ],
      "execution_count": null,
      "outputs": []
    },
    {
      "cell_type": "code",
      "metadata": {
        "id": "nyt1xocbm1dL"
      },
      "source": [
        "## Mitigate the stabilizer expectation values \r\n",
        "F_nomit_backend = []\r\n",
        "F_mit_backend = []\r\n",
        "\r\n",
        "for ii in range(reps):\r\n",
        "    # Unmitigated Expectation Values\r\n",
        "    expvals_nomit_b, stddevs_nomit_b = stabilizer_expvals(\r\n",
        "        result_backend[ii], stabilizers)\r\n",
        "    \r\n",
        "    # Fit measurement error mitigators\r\n",
        "    mitigator_backend = mit.ExpvalMeasMitigatorFitter(result_mit_backend[ii], metadata).fit()\r\n",
        "\r\n",
        "    # Measurement error mitigated expectation values\r\n",
        "    expvals_mit_b, stddevs_mit_b = stabilizer_expvals(\r\n",
        "        result_backend[ii], stabilizers, meas_mitigator=mitigator_backend)\r\n",
        "    \r\n",
        "    # save the fidelities for this iteration\r\n",
        "    F_nomit_backend.append(stabilizer_fidelity(expvals_nomit_b, stddevs_nomit_b)[0])\r\n",
        "    F_mit_backend.append(stabilizer_fidelity(expvals_mit_b, stddevs_mit_b)[0])"
      ],
      "execution_count": null,
      "outputs": []
    },
    {
      "cell_type": "code",
      "metadata": {
        "colab": {
          "base_uri": "https://localhost:8080/"
        },
        "id": "pwyTJbdBnjdT",
        "outputId": "4ea39301-24b4-4fd0-eb97-4a4e4d2509ef"
      },
      "source": [
        "## The final results\r\n",
        "\r\n",
        "print('Graph-state fidelity estimates')\r\n",
        "print('\\nNo mitigation')\r\n",
        "print('{:.3f} \\u00B1 {:.3f}'.format(\r\n",
        "     np.mean(F_nomit_backend), np.std(F_nomit_backend)))\r\n",
        "\r\n",
        "print('\\nCTMP error mitigation')\r\n",
        "print('{:.3f} \\u00B1 {:.3f}'.format(\r\n",
        "     np.mean(F_mit_backend), np.std(F_mit_backend)))"
      ],
      "execution_count": null,
      "outputs": [
        {
          "output_type": "stream",
          "text": [
            "Graph-state fidelity estimates\n",
            "\n",
            "No mitigation\n",
            "0.491 ± 0.001\n",
            "\n",
            "CTMP error mitigation\n",
            "0.700 ± 0.002\n"
          ],
          "name": "stdout"
        }
      ]
    }
  ]
}