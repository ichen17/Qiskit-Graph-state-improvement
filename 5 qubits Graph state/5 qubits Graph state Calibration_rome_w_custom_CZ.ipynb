{
 "cells": [
  {
   "cell_type": "code",
   "execution_count": 92,
   "metadata": {},
   "outputs": [],
   "source": [
    "import math\n",
    "# Qiskit module\n",
    "from qiskit import QuantumCircuit\n",
    "import qiskit.circuit.library as circuit_library\n",
    "import qiskit.quantum_info as qi\n",
    "import qiskit.ignis.mitigation as mit\n",
    "\n",
    "# Qiskit tools for noisy simulation\n",
    "from qiskit.providers.aer import QasmSimulator\n",
    "\n",
    "from qiskit.providers.aer.noise import NoiseModel\n",
    "\n",
    "from qiskit.providers.aer.utils import insert_noise\n",
    "\n",
    "# Qiskit tools for running and monitoring jobs\n",
    "from qiskit import execute\n",
    "from qiskit.tools.monitor import job_monitor\n",
    "\n",
    "# Qiskit for pulse \n",
    "from qiskit import pulse\n",
    "import matplotlib.pyplot as plt\n",
    "\n",
    "from qiskit import *\n",
    "from qiskit.pulse import Play, Schedule, DriveChannel, ControlChannel, Waveform, ShiftPhase\n",
    "from qiskit.pulse.library import drag, GaussianSquare, Drag\n",
    "from qiskit.visualization import SchedStyle\n",
    "\n",
    "# Other imports\n",
    "import numpy as np\n",
    "\n",
    "# Suppress warnings\n",
    "import warnings\n",
    "warnings.filterwarnings('ignore')"
   ]
  },
  {
   "cell_type": "code",
   "execution_count": 93,
   "metadata": {},
   "outputs": [
    {
     "name": "stderr",
     "output_type": "stream",
     "text": [
      "configrc.store_credentials:WARNING:2021-04-05 12:20:52,217: Credentials already present. Set overwrite=True to overwrite.\n",
      "ibmqfactory.load_account:WARNING:2021-04-05 12:20:52,614: Credentials are already in use. The existing account in the session will be replaced.\n"
     ]
    },
    {
     "data": {
      "text/plain": [
       "<AccountProvider for IBMQ(hub='ibm-q', group='open', project='main')>"
      ]
     },
     "execution_count": 93,
     "metadata": {},
     "output_type": "execute_result"
    }
   ],
   "source": [
    "from qiskit import IBMQ\n",
    "IBMQ.save_account(\"26595118309e0ea848015d3f7458b040ec723a9c11afd2d777038533a5a2b8079312af1e3713e370053f85bf7dd5d77f72993b0f04c2cd561e4c31f5a40c910c\")\n",
    "IBMQ.load_account()"
   ]
  },
  {
   "cell_type": "code",
   "execution_count": 94,
   "metadata": {},
   "outputs": [],
   "source": [
    "provider = IBMQ.get_provider(hub='ibm-q-community', group='ibmquantumawards', project='open-science')\n",
    "backend = provider.get_backend('ibmq_rome')\n",
    "properties = backend.properties()"
   ]
  },
  {
   "cell_type": "code",
   "execution_count": 95,
   "metadata": {},
   "outputs": [
    {
     "name": "stdout",
     "output_type": "stream",
     "text": [
      "Sampling time: 0.2222222222222222 ns\n"
     ]
    }
   ],
   "source": [
    "backend_config = backend.configuration()\n",
    "ham_params = backend_config.hamiltonian['vars']\n",
    "dt = backend_config.dt\n",
    "print(f\"Sampling time: {dt*1e9} ns\") "
   ]
  },
  {
   "cell_type": "code",
   "execution_count": 96,
   "metadata": {},
   "outputs": [
    {
     "data": {
      "text/plain": [
       "['cx', 'id', 'measure', 'rz', 'sx', 'u1', 'u2', 'u3', 'x']"
      ]
     },
     "execution_count": 96,
     "metadata": {},
     "output_type": "execute_result"
    }
   ],
   "source": [
    "backend_defaults = backend.defaults()\n",
    "inst_sched_map = backend_defaults.instruction_schedule_map \n",
    "inst_sched_map.instructions"
   ]
  },
  {
   "cell_type": "code",
   "execution_count": 97,
   "metadata": {},
   "outputs": [],
   "source": [
    "\n",
    "num_qubits = 5\n",
    "\n",
    "# Adjacency matrix \n",
    "adjmat = [\n",
    "    [0, 1, 0, 0, 0], \n",
    "    [1, 0, 1, 0, 0], \n",
    "    [0, 1, 0, 1, 0], \n",
    "    [0, 0, 1, 0, 1], \n",
    "    [0, 0, 0, 1, 0]]"
   ]
  },
  {
   "cell_type": "code",
   "execution_count": 98,
   "metadata": {},
   "outputs": [],
   "source": [
    "def cx_pulse_instructions(qc: int, qt: int) -> Schedule:\n",
    "    \"\"\"Retrieve the CNOT pulse schedule for the given\n",
    "    qubit pair from the backend defaults.\n",
    "    \n",
    "    Args:\n",
    "      qc: control qubit index\n",
    "      qt: target qubit index\n",
    "    \"\"\"\n",
    "    if [qc, qt] not in backend_config.coupling_map:\n",
    "        print('Qubit pair has no direct cross resonance!')\n",
    "    else:\n",
    "        cx = inst_sched_map.get('cx', qubits=[qc, qt])\n",
    "        return cx\n",
    "\n",
    "def Exract_GaussianSquare(q1, q2):\n",
    "    \"\"\"Retrieve the cross resonance pulse channel and waveform\n",
    "    for the qubit pair from the cx (CNOT) schedule.\n",
    "    \n",
    "    Args:\n",
    "      q1: control qubit index\n",
    "      q2: target qubit index\n",
    "    \"\"\"\n",
    "    cx = cx_pulse_instructions(q1, q2)\n",
    "    cx1 = cx_pulse_instructions(q2, q1)\n",
    "    if cx.instructions[-1][0] < cx1.instructions[-1][0]:\n",
    "        cx=cx1\n",
    "    idx = 0\n",
    "    Dr_gs = []\n",
    "    cr_gs = []\n",
    "    control_channel=''\n",
    "    Drive_Channel=''\n",
    "    another_Drive_Channel=''\n",
    "    #look for first Play instruction on a ControlChannel\n",
    "    N = 1\n",
    "    for i in range(len(cx.instructions)):\n",
    "        if type(cx.instructions[i][1]) is ShiftPhase and type(cx.instructions[i][1].channel) is DriveChannel\\\n",
    "        and cx.instructions[i][1].phase == -math.pi/2 and N == 1 :\n",
    "            \n",
    "            another_Drive_Channel=cx.instructions[i][1].channels[0]\n",
    "            \n",
    "        if type(cx.instructions[i][1].channels[0]) is ControlChannel and type(cx.instructions[i][1]) is Play\\\n",
    "          and type(cx.instructions[i][1].pulse) is GaussianSquare:\n",
    "\n",
    "            cr_gs.append(cx.instructions[i][1].pulse)\n",
    "\n",
    "            control_channel=cx.instructions[i][1].channels[0]\n",
    "\n",
    "        if type(cx.instructions[i][1].channels[0]) is DriveChannel and type(cx.instructions[i][1]) is Play \\\n",
    "          and type(cx.instructions[i][1].pulse) is GaussianSquare:\n",
    "\n",
    "            Dr_gs.append(cx.instructions[i][1].pulse)\n",
    "\n",
    "            Drive_Channel=cx.instructions[i][1].channels[0]\n",
    "        if type(cx.instructions[i][1]) is Play:\n",
    "            N=0\n",
    "\n",
    "    return control_channel, cr_gs, Drive_Channel, Dr_gs, another_Drive_Channel\n",
    "\n",
    "def Get_Shift_phase_CRTL_Chan(q1, q2):\n",
    "    \"\"\"Get q1 and q2 corresponding control channel\n",
    "    \n",
    "    Args:\n",
    "      q1: small one\n",
    "      qt: target qubit index\n",
    "    \"\"\"\n",
    "    cx1 = cx_pulse_instructions(q1, q2)\n",
    "    cx2 = cx_pulse_instructions(q2, q1)\n",
    "    if cx1.instructions[-1][0] > cx2.instructions[-1][0]:\n",
    "        cx1, cx2 = cx2, cx1\n",
    "    control_chan0 = []\n",
    "    control_chan1 = []\n",
    "    for i in range(len(cx2.instructions)):\n",
    "        if type(cx2.instructions[i][1]) is ShiftPhase and type(cx2.instructions[i][1].channel) is ControlChannel\\\n",
    "        and cx2.instructions[i][1].phase == -math.pi/2 :\n",
    "            control_chan0.append(cx2.instructions[i][1].channel)\n",
    "        if type(cx2.instructions[i][1]) is ShiftPhase and type(cx2.instructions[i][1].channel) is ControlChannel\\\n",
    "        and cx2.instructions[i][1].phase == -math.pi :\n",
    "            control_chan1.append(cx2.instructions[i][1].channel)\n",
    "        if type(cx2.instructions[i][1]) is Play:\n",
    "            break\n",
    "\n",
    "    return control_chan0, control_chan1\n",
    "\n",
    "def CZ_gate_schedule_3 (q0,q1):\n",
    "    uchan, cr_pulse, Dchan, dr_pulse, another_Dchan = Exract_GaussianSquare(q0, q1)\n",
    "    #Y_chan, X_chan = Get_XY_chan(q0,q1)\n",
    "    control_chan0, control_chan1 = Get_Shift_phase_CRTL_Chan(q0, q1)\n",
    "    \n",
    "    \n",
    "    Y_q = Dchan.index\n",
    "    \n",
    "    X_q = another_Dchan.index\n",
    "    \n",
    "    Y90p = inst_sched_map.get('u2', P0=0, P1=0, qubits=[Y_q]).instructions\n",
    "    \n",
    "    X_180 = inst_sched_map.get('x', qubits=[X_q]).instructions[0][1].pulse\n",
    "    \n",
    "    for Y in Y90p:\n",
    "        if type(Y[1]) is Play:\n",
    "            Y_pulse = Y[1].pulse\n",
    "            \n",
    "    drive_samples = Y_pulse.duration\n",
    "    \n",
    "    cr_samples = cr_pulse[0].duration\n",
    "  \n",
    "    CZ_schedule = pulse.Schedule(name=\"CZ gate pulse\") \n",
    "    \n",
    "    CZ_schedule |= Play(Y_pulse, Dchan)\n",
    "    \n",
    "    CZ_schedule |= Play(dr_pulse[0], Dchan) << int(drive_samples)\n",
    "    CZ_schedule |= Play(cr_pulse[0], uchan) << int(drive_samples)\n",
    "    \n",
    "    CZ_schedule |= Play(X_180, another_Dchan) << int(cr_samples+drive_samples)\n",
    "\n",
    "    CZ_schedule |= Play(dr_pulse[1], Dchan) << int(cr_samples+2*drive_samples)\n",
    "    CZ_schedule |= Play(cr_pulse[1], uchan) << int(cr_samples+2*drive_samples)\n",
    "    \n",
    "    CZ_schedule |= Play(X_180, another_Dchan) << int(2*cr_samples+2*drive_samples)\n",
    "    \n",
    "    CZ_schedule |= ShiftPhase(-math.pi, Dchan) << int(2*cr_samples+2*drive_samples)\n",
    "    \n",
    "    for chan in control_chan1:\n",
    "        CZ_schedule |= ShiftPhase(-math.pi, chan) << int(2*cr_samples+2*drive_samples)\n",
    "\n",
    "    CZ_schedule |= Play(Y_pulse, Dchan) << int(2*cr_samples+2*drive_samples)\n",
    "\n",
    "    CZ_schedule |= ShiftPhase(-math.pi/2, Dchan) << int(2*cr_samples+3*drive_samples)\n",
    "    \n",
    "    for chan in control_chan1: \n",
    "        CZ_schedule |= ShiftPhase(-math.pi/2, chan) << int(2*cr_samples+3*drive_samples)\n",
    "    \n",
    "    CZ_schedule |= ShiftPhase(math.pi/2, another_Dchan) << int(2*cr_samples+3*drive_samples)\n",
    "    \n",
    "    for chan in control_chan0: \n",
    "        CZ_schedule |= ShiftPhase(math.pi/2, chan) << int(2*cr_samples+3*drive_samples)\n",
    "\n",
    "    return CZ_schedule"
   ]
  },
  {
   "cell_type": "code",
   "execution_count": null,
   "metadata": {},
   "outputs": [],
   "source": [
    "class Graph_state:\n",
    "    def __init__(self, backend, edges_list, tot_qubit = None):\n",
    "        \"\"\"\n",
    "        The edge list is used to save edges, the connections between the qubits\n",
    "\n",
    "        tot_qubit: the total number of qubits to create the graph state\n",
    "\n",
    "        backend: the backend you use\n",
    "        \"\"\"\n",
    "        self.edges_list = edges_list\n",
    "        self.config = backend.configuration()\n",
    "\n",
    "        if tot_qubit == None:\n",
    "            self.tot_q = self.config.n_qubits\n",
    "        else:\n",
    "            self.tot_q = tot_qubit\n",
    "\n",
    "        if self.config.n_qubits <  self.tot_q:\n",
    "            \n",
    "            raise Exception('Total qubits should not exceed {}.'.format(self.config.n_qubits))\n",
    "            \n",
    "        for x in self.edges_list:\n",
    "            \n",
    "            if list(x) not in backend_config.coupling_map:\n",
    "                \n",
    "                raise Exception('{} is not the backend.'.format(config.n_qubits))\n",
    "        \n",
    "    def Creat_graph_state_circuit(self):\n",
    "        \n",
    "        graph_circuit = QuantumCircuit(self.tot_q)  \n",
    "\n",
    "        graph_circuit.h(range(self.tot_q))  \n",
    "\n",
    "        for i in self.edges_list:        \n",
    "            graph_circuit.cz(i[0],i[1])       \n",
    "\n",
    "        return graph_circuit"
   ]
  },
  {
   "cell_type": "code",
   "execution_count": 122,
   "metadata": {},
   "outputs": [],
   "source": [
    "def create_graph_state():\n",
    "    \n",
    "    edges_list = [(0,1), (2,3), (1,2), (3,4)]   #type 2\n",
    "\n",
    "    #edges_list = [(1,2), (3,4), (0,1), (2,3)]  #type 1\n",
    "\n",
    "    graph_state = Graph_state( backend, edges_list)   \n",
    "\n",
    "    graph_state_circuit = graph_state.Creat_graph_state_circuit() \n",
    "    \n",
    "    return graph_state_circuit"
   ]
  },
  {
   "cell_type": "code",
   "execution_count": 123,
   "metadata": {},
   "outputs": [
    {
     "data": {
      "image/png": "[encoded data removed]",
      "text/plain": [
       "<Figure size 267.197x325.08 with 1 Axes>"
      ]
     },
     "execution_count": 123,
     "metadata": {},
     "output_type": "execute_result"
    }
   ],
   "source": [
    "state_circuit = create_graph_state()\n",
    "state_circuit.draw(output = \"mpl\")"
   ]
  },
  {
   "cell_type": "code",
   "execution_count": 124,
   "metadata": {},
   "outputs": [],
   "source": [
    "\n",
    "def compute_stabilizer_group(circuit):\n",
    "    \"\"\"Compute the stabilizer group for stabilizer circuit.\"\"\"\n",
    "    state = qi.Statevector.from_instruction(circuit)\n",
    "    labels = []\n",
    "    for i in qi.pauli_basis(state.num_qubits):\n",
    "        val = round(qi.state_fidelity(i.to_matrix()[0], state, validate=False))\n",
    "        if val != 0:\n",
    "            label = i.to_labels()[0]\n",
    "            if val == 1:\n",
    "                label = '+' + label\n",
    "            else:\n",
    "                label = '-' + label\n",
    "            labels.append(label)\n",
    "    return labels\n",
    "\n",
    "def stabilizer_coeff_pauli(stabilizer):\n",
    "    \"\"\"Return the 1 or -1 coeff and Pauli label.\"\"\"\n",
    "    coeff = 1\n",
    "    pauli = coeff\n",
    "    if stabilizer[0] == '-':\n",
    "        coeff = -1\n",
    "    if stabilizer[0] in ['+', '-']:\n",
    "        pauli = stabilizer[1:]\n",
    "    else:\n",
    "        pauli = stabilizer\n",
    "    return coeff, pauli\n",
    "\n",
    "def stabilizer_measure_circuit(stabilizer, initial_circuit=None):\n",
    "    \"\"\"Return a stabilizer measurement circuits.\n",
    "    \n",
    "    Args:\n",
    "        stabilizer (str): a stabilizer string\n",
    "        initial_circuit (QuantumCircuit): Optional, the initial circuit.\n",
    "    \n",
    "    Returns:\n",
    "        QuantumCircuit: the circuit with stabilizer measurements.\n",
    "    \"\"\"\n",
    "    _, pauli = stabilizer_coeff_pauli(stabilizer)\n",
    "    if initial_circuit is None:\n",
    "        circ = QuantumCircuit(len(pauli))\n",
    "    else:\n",
    "        circ = initial_circuit.copy()\n",
    "    for i, s in enumerate(reversed(pauli)):\n",
    "        if s == 'X':\n",
    "            circ.h(i)\n",
    "        if s == 'Y':\n",
    "            circ.sdg(i)\n",
    "            circ.h(i)\n",
    "            \n",
    "    if cz_pulse == True: #Add our custom CZ gate\n",
    "        \n",
    "        circ.add_calibration('cz', [1,2], CZ_gate_schedule_3(1,2))\n",
    "\n",
    "        circ.add_calibration('cz', [0,1], CZ_gate_schedule_3(0,1))\n",
    "\n",
    "        circ.add_calibration('cz', [3,4], CZ_gate_schedule_3(3,4))\n",
    "\n",
    "        circ.add_calibration('cz', [2,3], CZ_gate_schedule_3(2,3))\n",
    "\n",
    "    \n",
    "    circ.measure_all()\n",
    "    \n",
    "    circ = transpile(circ, backend)\n",
    "    \n",
    "    return circ"
   ]
  },
  {
   "cell_type": "code",
   "execution_count": 125,
   "metadata": {},
   "outputs": [
    {
     "name": "stdout",
     "output_type": "stream",
     "text": [
      "Stabilizers: ['+IIIII', '+IIIZX', '+IIZXZ', '+IIZYY', '+IZXIX', '+IZXZI', '-IZYXY', '+IZYYZ', '+XIXIX', '+XIXZI', '-XIYXY', '+XIYYZ', '+XZIII', '+XZIZX', '+XZZXZ', '+XZZYY', '-YXXXY', '+YXXYZ', '-YXYIX', '-YXYZI', '+YYIXZ', '+YYIYY', '+YYZII', '+YYZZX', '+ZXIXZ', '+ZXIYY', '+ZXZII', '+ZXZZX', '+ZYXXY', '-ZYXYZ', '+ZYYIX', '+ZYYZI']\n",
      "Generators: ['IIIZX', 'IIZXZ', 'IZXZI', 'ZXZII', 'XZIII']\n"
     ]
    }
   ],
   "source": [
    "\n",
    "## Compute the stabilizers for this graph state\n",
    "generators = qi.Clifford(state_circuit).stabilizer.pauli.to_labels()\n",
    "stabilizers = compute_stabilizer_group(state_circuit)\n",
    "print('Stabilizers:', stabilizers)\n",
    "print('Generators:', generators)"
   ]
  },
  {
   "cell_type": "code",
   "execution_count": 126,
   "metadata": {},
   "outputs": [
    {
     "data": {
      "image/png": "[encoded data removed]",
      "text/plain": [
       "<Figure size 786.729x385.28 with 1 Axes>"
      ]
     },
     "execution_count": 126,
     "metadata": {},
     "output_type": "execute_result"
    }
   ],
   "source": [
    "stabilizer_circuits = [stabilizer_measure_circuit(stab, state_circuit, cz_pulse=True)\n",
    "                       for stab in stabilizers]\n",
    "\n",
    "stabilizer_circuits[0].draw(output = \"mpl\")"
   ]
  },
  {
   "cell_type": "code",
   "execution_count": 127,
   "metadata": {},
   "outputs": [],
   "source": [
    "labels = ['00000', '00011', '00101', '00110',\n",
    "          '01001', '01010', '01100', \n",
    "          '10001', '10010', '10100', '11000', \n",
    "          '11111']\n",
    "          \n",
    "meas_cal_circuits, metadata = mit.expval_meas_mitigator_circuits(num_qubits, method='complete')"
   ]
  },
  {
   "cell_type": "code",
   "execution_count": 128,
   "metadata": {},
   "outputs": [],
   "source": [
    "[meas_cal_circuits_full, state_labels] = mit.complete_meas_cal(range(num_qubits))"
   ]
  },
  {
   "cell_type": "code",
   "execution_count": 129,
   "metadata": {},
   "outputs": [],
   "source": [
    "reps = 4"
   ]
  },
  {
   "cell_type": "code",
   "execution_count": 130,
   "metadata": {},
   "outputs": [
    {
     "name": "stdout",
     "output_type": "stream",
     "text": [
      "Job IDs (1/4): \n",
      " measurement calibration: 606b4dc34312363a07b2653a\n",
      " stabilizer measurements: 606b4dc034b4bf66f71322e4\n",
      "Job IDs (2/4): \n",
      " measurement calibration: 606b4dd10f122db5cdba8b6b\n",
      " stabilizer measurements: 606b4dcdba7dc438797da248\n",
      "Job IDs (3/4): \n",
      " measurement calibration: 606b4ddb73a8dbf7e06e5630\n",
      " stabilizer measurements: 606b4dd8431236255eb26541\n",
      "Job IDs (4/4): \n",
      " measurement calibration: 606b4de6afb18f3b121e9bb4\n",
      " stabilizer measurements: 606b4de34a9caf6b55a5ea82\n"
     ]
    }
   ],
   "source": [
    "\n",
    "all_jobs = []\n",
    "all_jobs_mit = []\n",
    "\n",
    "for ii in range(reps):\n",
    "\n",
    "    # Run QPT on backend\n",
    "    shots = 8192\n",
    "    il = [0,1,2,3,4] \n",
    "    \n",
    "    #job_backend = execute(stabilizer_circuits, Aer.get_backend('qasm_simulator'), shots=shots, initial_layout=il,basis_gates=basis_gates,noise_model=noise_model)\n",
    "    job_backend = execute(stabilizer_circuits, backend, shots=shots, initial_layout=il)\n",
    "    #job_mit_backend = execute(meas_cal_circuits, Aer.get_backend('qasm_simulator'), shots=shots, initial_layout=il,basis_gates=basis_gates,noise_model=noise_model)\n",
    "    job_mit_backend = execute(meas_cal_circuits, backend, shots=shots, initial_layout=il)\n",
    "    print('Job IDs ({}/{}): \\n measurement calibration: {}\\n stabilizer measurements: {}'.format(\n",
    "        ii+1, reps, job_mit_backend.job_id(), job_backend.job_id()))\n",
    "\n",
    "    all_jobs.append(job_backend)\n",
    "    all_jobs_mit.append(job_mit_backend)"
   ]
  },
  {
   "cell_type": "code",
   "execution_count": 131,
   "metadata": {},
   "outputs": [
    {
     "name": "stdout",
     "output_type": "stream",
     "text": [
      "Job Status: job has successfully run\n",
      "Job Status: job has successfully run\n",
      "Job Status: job has successfully run\n",
      "Job Status: job has successfully run\n"
     ]
    }
   ],
   "source": [
    "\n",
    "for job in all_jobs:\n",
    "    job_monitor(job)\n",
    "    try:\n",
    "        if job.error_message() is not None:\n",
    "            print(job.error_message())\n",
    "    except:\n",
    "        pass"
   ]
  },
  {
   "cell_type": "code",
   "execution_count": 132,
   "metadata": {},
   "outputs": [],
   "source": [
    "\n",
    "result_backend = []\n",
    "result_mit_backend = []\n",
    "for job in all_jobs:\n",
    "    # Retrieve results (this may take a while depending on the queue)\n",
    "    result_backend.append(job.result())\n",
    "    \n",
    "for job in all_jobs_mit:\n",
    "    result_mit_backend.append(job.result())"
   ]
  },
  {
   "cell_type": "code",
   "execution_count": 133,
   "metadata": {},
   "outputs": [],
   "source": [
    "def stabilizer_measure_diagonal(stabilizer):\n",
    "    \"\"\"Return the diagonal vector for a stabilizer measurement.\n",
    "    \n",
    "    Args:\n",
    "        stabilizer (str): a stabilizer string\n",
    "    \n",
    "    Returns:\n",
    "        np.ndarray: the diagonal for measurement in the stabilizer basis.\n",
    "    \"\"\"\n",
    "    coeff, pauli = stabilizer_coeff_pauli(stabilizer)\n",
    "    diag = np.array([1])\n",
    "    for s in reversed(pauli):\n",
    "        if s == 'I':\n",
    "            tmp = np.array([1, 1])\n",
    "        else:\n",
    "            tmp = np.array([1, -1])\n",
    "        diag = np.kron(tmp, diag)\n",
    "    return coeff * diag\n",
    "    \n",
    "def stabilizer_fidelity(expvals, stddevs=None):\n",
    "    \"\"\"Compute stabilizer state fidelity from stabilizer expvals.\"\"\"\n",
    "    mean = np.mean(expvals)\n",
    "    if stddevs is None:\n",
    "        return mean\n",
    "    stddev = np.sqrt(np.sum(stddevs ** 2))\n",
    "    return mean, stddev"
   ]
  },
  {
   "cell_type": "code",
   "execution_count": 134,
   "metadata": {},
   "outputs": [],
   "source": [
    "def stabilizer_expvals(result, stabilizers, meas_mitigator=None):\n",
    "    \"\"\"Compute expectation values from stabilizer measurement results.\"\"\"\n",
    "\n",
    "    ### YOUR CODE GOES HERE -- START\n",
    "    \n",
    "    expvals = []\n",
    "    stddevs = []\n",
    "    for i, stab in enumerate(stabilizers):\n",
    "        expval, stddev = mit.expectation_value(\n",
    "            result.get_counts(i),\n",
    "            diagonal=stabilizer_measure_diagonal(stab),\n",
    "            meas_mitigator=meas_mitigator)\n",
    "        expvals.append(expval)\n",
    "        stddevs.append(stddev)\n",
    "    return np.array(expvals), np.array(stddevs)"
   ]
  },
  {
   "cell_type": "code",
   "execution_count": 135,
   "metadata": {},
   "outputs": [],
   "source": [
    "## Mitigate the stabilizer expectation values \n",
    "F_nomit_backend = []\n",
    "F_mit_backend = []\n",
    "\n",
    "for ii in range(reps):\n",
    "    # Unmitigated Expectation Values\n",
    "    expvals_nomit_b, stddevs_nomit_b = stabilizer_expvals(\n",
    "        result_backend[ii], stabilizers)\n",
    "  \n",
    "    # Fit measurement error mitigators\n",
    "    mitigator_backend = mit.ExpvalMeasMitigatorFitter(result_mit_backend[ii], metadata).fit()\n",
    "\n",
    "    # Measurement error mitigated expectation values\n",
    "    expvals_mit_b, stddevs_mit_b = stabilizer_expvals(\n",
    "        result_backend[ii], stabilizers, meas_mitigator=mitigator_backend)\n",
    "    \n",
    "    # save the fidelities for this iteration\n",
    "    F_nomit_backend.append(stabilizer_fidelity(expvals_nomit_b, stddevs_nomit_b)[0])\n",
    "    F_mit_backend.append(stabilizer_fidelity(expvals_mit_b, stddevs_mit_b)[0])"
   ]
  },
  {
   "cell_type": "code",
   "execution_count": 136,
   "metadata": {},
   "outputs": [
    {
     "name": "stdout",
     "output_type": "stream",
     "text": [
      "Graph-state fidelity estimates\n",
      "\n",
      "No mitigation\n",
      "0.741 ± 0.001\n",
      "\n",
      "CTMP error mitigation\n",
      "0.913 ± 0.002\n"
     ]
    }
   ],
   "source": [
    "print('Graph-state fidelity estimates')\n",
    "print('\\nNo mitigation')\n",
    "print('{:.3f} \\u00B1 {:.3f}'.format(\n",
    "     np.mean(F_nomit_backend), np.std(F_nomit_backend)))\n",
    "\n",
    "print('\\nCTMP error mitigation')\n",
    "print('{:.3f} \\u00B1 {:.3f}'.format(\n",
    "     np.mean(F_mit_backend), np.std(F_mit_backend)))"
   ]
  },
  {
   "cell_type": "code",
   "execution_count": 137,
   "metadata": {},
   "outputs": [
    {
     "data": {
      "text/plain": [
       "[0.9129030211772661,\n",
       " 0.9176895442039286,\n",
       " 0.9117079136879318,\n",
       " 0.9115467469703687]"
      ]
     },
     "execution_count": 137,
     "metadata": {},
     "output_type": "execute_result"
    }
   ],
   "source": [
    "F_mit_backend"
   ]
  },
  {
   "cell_type": "code",
   "execution_count": 117,
   "metadata": {},
   "outputs": [
    {
     "name": "stdout",
     "output_type": "stream",
     "text": [
      "Graph-state fidelity estimates\n",
      "\n",
      "No mitigation\n",
      "0.705 ± 0.002\n",
      "\n",
      "CTMP error mitigation\n",
      "0.872 ± 0.003\n"
     ]
    }
   ],
   "source": [
    "print('Graph-state fidelity estimates')\n",
    "print('\\nNo mitigation')\n",
    "print('{:.3f} \\u00B1 {:.3f}'.format(\n",
    "     np.mean(F_nomit_backend), np.std(F_nomit_backend)))\n",
    "\n",
    "print('\\nCTMP error mitigation')\n",
    "print('{:.3f} \\u00B1 {:.3f}'.format(\n",
    "     np.mean(F_mit_backend), np.std(F_mit_backend)))"
   ]
  },
  {
   "cell_type": "code",
   "execution_count": 118,
   "metadata": {},
   "outputs": [
    {
     "data": {
      "text/plain": [
       "[0.8692040905777496, 0.8698538531227085, 0.8751796309154585, 0.87453042213746]"
      ]
     },
     "execution_count": 118,
     "metadata": {},
     "output_type": "execute_result"
    }
   ],
   "source": [
    "F_mit_backend"
   ]
  },
  {
   "cell_type": "code",
   "execution_count": null,
   "metadata": {},
   "outputs": [],
   "source": []
  }
 ],
 "metadata": {
  "kernelspec": {
   "display_name": "Python 3",
   "language": "python",
   "name": "python3"
  },
  "language_info": {
   "codemirror_mode": {
    "name": "ipython",
    "version": 3
   },
   "file_extension": ".py",
   "mimetype": "text/x-python",
   "name": "python",
   "nbconvert_exporter": "python",
   "pygments_lexer": "ipython3",
   "version": "3.9.4"
  }
 },
 "nbformat": 4,
 "nbformat_minor": 2
}
